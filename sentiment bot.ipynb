{
 "cells": [
  {
   "cell_type": "code",
   "execution_count": 1,
   "id": "a85870c5",
   "metadata": {},
   "outputs": [],
   "source": [
    "import numpy as np\n",
    "import pandas as pd\n",
    "\n",
    "from sklearn.model_selection import train_test_split\n",
    "from sklearn.feature_extraction.text import TfidfVectorizer\n",
    "from sklearn.naive_bayes import MultinomialNB\n",
    "from sklearn.ensemble import RandomForestClassifier\n",
    "from sklearn.metrics import accuracy_score, classification_report\n",
    "\n",
    "import spacy"
   ]
  },
  {
   "cell_type": "code",
   "execution_count": 4,
   "id": "2fa123f3",
   "metadata": {},
   "outputs": [
    {
     "name": "stdout",
     "output_type": "stream",
     "text": [
      "(5937, 2)\n"
     ]
    },
    {
     "data": {
      "text/html": [
       "<div>\n",
       "<style scoped>\n",
       "    .dataframe tbody tr th:only-of-type {\n",
       "        vertical-align: middle;\n",
       "    }\n",
       "\n",
       "    .dataframe tbody tr th {\n",
       "        vertical-align: top;\n",
       "    }\n",
       "\n",
       "    .dataframe thead th {\n",
       "        text-align: right;\n",
       "    }\n",
       "</style>\n",
       "<table border=\"1\" class=\"dataframe\">\n",
       "  <thead>\n",
       "    <tr style=\"text-align: right;\">\n",
       "      <th></th>\n",
       "      <th>Comment</th>\n",
       "      <th>Emotion</th>\n",
       "    </tr>\n",
       "  </thead>\n",
       "  <tbody>\n",
       "    <tr>\n",
       "      <th>0</th>\n",
       "      <td>i seriously hate one subject to death but now ...</td>\n",
       "      <td>fear</td>\n",
       "    </tr>\n",
       "    <tr>\n",
       "      <th>1</th>\n",
       "      <td>im so full of life i feel appalled</td>\n",
       "      <td>anger</td>\n",
       "    </tr>\n",
       "    <tr>\n",
       "      <th>2</th>\n",
       "      <td>i sit here to write i start to dig out my feel...</td>\n",
       "      <td>fear</td>\n",
       "    </tr>\n",
       "    <tr>\n",
       "      <th>3</th>\n",
       "      <td>ive been really angry with r and i feel like a...</td>\n",
       "      <td>joy</td>\n",
       "    </tr>\n",
       "    <tr>\n",
       "      <th>4</th>\n",
       "      <td>i feel suspicious if there is no one outside l...</td>\n",
       "      <td>fear</td>\n",
       "    </tr>\n",
       "    <tr>\n",
       "      <th>5</th>\n",
       "      <td>i feel jealous becasue i wanted that kind of l...</td>\n",
       "      <td>anger</td>\n",
       "    </tr>\n",
       "    <tr>\n",
       "      <th>6</th>\n",
       "      <td>when a friend of mine keeps telling me morbid ...</td>\n",
       "      <td>anger</td>\n",
       "    </tr>\n",
       "    <tr>\n",
       "      <th>7</th>\n",
       "      <td>i finally fell asleep feeling angry useless an...</td>\n",
       "      <td>anger</td>\n",
       "    </tr>\n",
       "    <tr>\n",
       "      <th>8</th>\n",
       "      <td>i feel a bit annoyed and antsy in a good way</td>\n",
       "      <td>anger</td>\n",
       "    </tr>\n",
       "    <tr>\n",
       "      <th>9</th>\n",
       "      <td>i feel like i ve regained another vital part o...</td>\n",
       "      <td>joy</td>\n",
       "    </tr>\n",
       "  </tbody>\n",
       "</table>\n",
       "</div>"
      ],
      "text/plain": [
       "                                             Comment Emotion\n",
       "0  i seriously hate one subject to death but now ...    fear\n",
       "1                 im so full of life i feel appalled   anger\n",
       "2  i sit here to write i start to dig out my feel...    fear\n",
       "3  ive been really angry with r and i feel like a...     joy\n",
       "4  i feel suspicious if there is no one outside l...    fear\n",
       "5  i feel jealous becasue i wanted that kind of l...   anger\n",
       "6  when a friend of mine keeps telling me morbid ...   anger\n",
       "7  i finally fell asleep feeling angry useless an...   anger\n",
       "8       i feel a bit annoyed and antsy in a good way   anger\n",
       "9  i feel like i ve regained another vital part o...     joy"
      ]
     },
     "execution_count": 4,
     "metadata": {},
     "output_type": "execute_result"
    }
   ],
   "source": [
    "# Read the dataset \n",
    "df = pd.read_csv(\"C:/Users/aansh/Downloads/Emotion_classify_Data.csv\")\n",
    "\n",
    "# Print the shape of dataframe\n",
    "print(df.shape)\n",
    "\n",
    "# Print top 10 rows\n",
    "df.head(10)"
   ]
  },
  {
   "cell_type": "code",
   "execution_count": 5,
   "id": "ed10e608",
   "metadata": {},
   "outputs": [
    {
     "data": {
      "text/plain": [
       "anger    2000\n",
       "joy      2000\n",
       "fear     1937\n",
       "Name: Emotion, dtype: int64"
      ]
     },
     "execution_count": 5,
     "metadata": {},
     "output_type": "execute_result"
    }
   ],
   "source": [
    "df['Emotion'].value_counts()"
   ]
  },
  {
   "cell_type": "code",
   "execution_count": 6,
   "id": "eaa3b1ca",
   "metadata": {},
   "outputs": [
    {
     "name": "stdout",
     "output_type": "stream",
     "text": [
      "i seriously hate one subject to death but now i feel reluctant to drop it -> fear\n"
     ]
    }
   ],
   "source": [
    "# Show sample\n",
    "print(f\"{df['Comment'][0]} -> {df['Emotion'][0]}\")"
   ]
  },
  {
   "cell_type": "markdown",
   "id": "2a685678",
   "metadata": {},
   "source": [
    "# preprocessing"
   ]
  },
  {
   "cell_type": "code",
   "execution_count": 7,
   "id": "50d477d0",
   "metadata": {},
   "outputs": [],
   "source": [
    "# load english language model and create nlp object from it\n",
    "nlp = spacy.load(\"en_core_web_sm\") "
   ]
  },
  {
   "cell_type": "code",
   "execution_count": 8,
   "id": "1fa19426",
   "metadata": {},
   "outputs": [
    {
     "data": {
      "text/plain": [
       "'ive been really angry with r and i feel like an idiot for trusting him in the first place'"
      ]
     },
     "execution_count": 8,
     "metadata": {},
     "output_type": "execute_result"
    }
   ],
   "source": [
    "txt = df['Comment'][3]\n",
    "txt"
   ]
  },
  {
   "cell_type": "code",
   "execution_count": 9,
   "id": "2ef997c2",
   "metadata": {},
   "outputs": [],
   "source": [
    "# Tokenization\n",
    "doc = nlp(txt)"
   ]
  },
  {
   "cell_type": "markdown",
   "id": "fb16ebe4",
   "metadata": {},
   "source": [
    "# word tokenization"
   ]
  },
  {
   "cell_type": "code",
   "execution_count": 10,
   "id": "039b6c21",
   "metadata": {},
   "outputs": [
    {
     "name": "stdout",
     "output_type": "stream",
     "text": [
      "i\n",
      "ve\n",
      "been\n",
      "really\n",
      "angry\n",
      "with\n",
      "r\n",
      "and\n",
      "i\n",
      "feel\n",
      "like\n",
      "an\n",
      "idiot\n",
      "for\n",
      "trusting\n",
      "him\n",
      "in\n",
      "the\n",
      "first\n",
      "place\n"
     ]
    }
   ],
   "source": [
    "for token in doc:\n",
    "    print(token)"
   ]
  },
  {
   "cell_type": "markdown",
   "id": "e8c115b6",
   "metadata": {},
   "source": [
    "# stemming and lemmatization"
   ]
  },
  {
   "cell_type": "code",
   "execution_count": 11,
   "id": "c6d09a15",
   "metadata": {},
   "outputs": [
    {
     "name": "stdout",
     "output_type": "stream",
     "text": [
      "Word: i | -> I\n",
      "Word: ve | -> ve\n",
      "Word: been | -> be\n",
      "Word: really | -> really\n",
      "Word: angry | -> angry\n",
      "Word: with | -> with\n",
      "Word: r | -> r\n",
      "Word: and | -> and\n",
      "Word: i | -> I\n",
      "Word: feel | -> feel\n",
      "Word: like | -> like\n",
      "Word: an | -> an\n",
      "Word: idiot | -> idiot\n",
      "Word: for | -> for\n",
      "Word: trusting | -> trust\n",
      "Word: him | -> he\n",
      "Word: in | -> in\n",
      "Word: the | -> the\n",
      "Word: first | -> first\n",
      "Word: place | -> place\n"
     ]
    }
   ],
   "source": [
    "for token in doc:\n",
    "    print(f\"Word: {token} | -> {token.lemma_}\")"
   ]
  },
  {
   "cell_type": "markdown",
   "id": "1cc79bab",
   "metadata": {},
   "source": [
    "# stop words"
   ]
  },
  {
   "cell_type": "code",
   "execution_count": 12,
   "id": "b2714925",
   "metadata": {},
   "outputs": [
    {
     "name": "stdout",
     "output_type": "stream",
     "text": [
      "i\n",
      "been\n",
      "really\n",
      "with\n",
      "and\n",
      "i\n",
      "an\n",
      "for\n",
      "him\n",
      "in\n",
      "the\n",
      "first\n"
     ]
    }
   ],
   "source": [
    "for token in doc:\n",
    "    if token.is_stop or token.is_punct:\n",
    "        print(token)"
   ]
  },
  {
   "cell_type": "code",
   "execution_count": 13,
   "id": "d1275f26",
   "metadata": {},
   "outputs": [],
   "source": [
    "# use this utility function to get the preprocessed text data\n",
    "def preprocess(text):\n",
    "    #lemmatize the text\n",
    "    doc = nlp(text)\n",
    "    filtered_tokens = []\n",
    "    for token in doc:\n",
    "        if token.is_stop or token.is_punct:\n",
    "            continue\n",
    "        filtered_tokens.append(token.lemma_)\n",
    "    \n",
    "    return \" \".join(filtered_tokens) "
   ]
  },
  {
   "cell_type": "code",
   "execution_count": 14,
   "id": "40480d7b",
   "metadata": {},
   "outputs": [
    {
     "name": "stdout",
     "output_type": "stream",
     "text": [
      "ive been really angry with r and i feel like an idiot for trusting him in the first place\n",
      "ve angry r feel like idiot trust place\n"
     ]
    }
   ],
   "source": [
    "print(txt)\n",
    "procces_txt = preprocess(txt)\n",
    "print(procces_txt)"
   ]
  },
  {
   "cell_type": "code",
   "execution_count": 15,
   "id": "7b52a082",
   "metadata": {},
   "outputs": [],
   "source": [
    "df['preprocessed_comment'] = df['Comment'].apply(preprocess) "
   ]
  },
  {
   "cell_type": "code",
   "execution_count": 16,
   "id": "b362f7c3",
   "metadata": {},
   "outputs": [
    {
     "data": {
      "text/html": [
       "<div>\n",
       "<style scoped>\n",
       "    .dataframe tbody tr th:only-of-type {\n",
       "        vertical-align: middle;\n",
       "    }\n",
       "\n",
       "    .dataframe tbody tr th {\n",
       "        vertical-align: top;\n",
       "    }\n",
       "\n",
       "    .dataframe thead th {\n",
       "        text-align: right;\n",
       "    }\n",
       "</style>\n",
       "<table border=\"1\" class=\"dataframe\">\n",
       "  <thead>\n",
       "    <tr style=\"text-align: right;\">\n",
       "      <th></th>\n",
       "      <th>Comment</th>\n",
       "      <th>Emotion</th>\n",
       "      <th>preprocessed_comment</th>\n",
       "    </tr>\n",
       "  </thead>\n",
       "  <tbody>\n",
       "    <tr>\n",
       "      <th>0</th>\n",
       "      <td>i seriously hate one subject to death but now ...</td>\n",
       "      <td>fear</td>\n",
       "      <td>seriously hate subject death feel reluctant drop</td>\n",
       "    </tr>\n",
       "    <tr>\n",
       "      <th>1</th>\n",
       "      <td>im so full of life i feel appalled</td>\n",
       "      <td>anger</td>\n",
       "      <td>m life feel appalled</td>\n",
       "    </tr>\n",
       "    <tr>\n",
       "      <th>2</th>\n",
       "      <td>i sit here to write i start to dig out my feel...</td>\n",
       "      <td>fear</td>\n",
       "      <td>sit write start dig feeling think afraid accep...</td>\n",
       "    </tr>\n",
       "    <tr>\n",
       "      <th>3</th>\n",
       "      <td>ive been really angry with r and i feel like a...</td>\n",
       "      <td>joy</td>\n",
       "      <td>ve angry r feel like idiot trust place</td>\n",
       "    </tr>\n",
       "    <tr>\n",
       "      <th>4</th>\n",
       "      <td>i feel suspicious if there is no one outside l...</td>\n",
       "      <td>fear</td>\n",
       "      <td>feel suspicious outside like rapture happen</td>\n",
       "    </tr>\n",
       "    <tr>\n",
       "      <th>...</th>\n",
       "      <td>...</td>\n",
       "      <td>...</td>\n",
       "      <td>...</td>\n",
       "    </tr>\n",
       "    <tr>\n",
       "      <th>5932</th>\n",
       "      <td>i begun to feel distressed for you</td>\n",
       "      <td>fear</td>\n",
       "      <td>begin feel distressed</td>\n",
       "    </tr>\n",
       "    <tr>\n",
       "      <th>5933</th>\n",
       "      <td>i left feeling annoyed and angry thinking that...</td>\n",
       "      <td>anger</td>\n",
       "      <td>leave feel annoyed angry thinking center stupi...</td>\n",
       "    </tr>\n",
       "    <tr>\n",
       "      <th>5934</th>\n",
       "      <td>i were to ever get married i d have everything...</td>\n",
       "      <td>joy</td>\n",
       "      <td>marry d ready offer ve get club perfect good l...</td>\n",
       "    </tr>\n",
       "    <tr>\n",
       "      <th>5935</th>\n",
       "      <td>i feel reluctant in applying there because i w...</td>\n",
       "      <td>fear</td>\n",
       "      <td>feel reluctant apply want able find company kn...</td>\n",
       "    </tr>\n",
       "    <tr>\n",
       "      <th>5936</th>\n",
       "      <td>i just wanted to apologize to you because i fe...</td>\n",
       "      <td>anger</td>\n",
       "      <td>want apologize feel like heartless bitch</td>\n",
       "    </tr>\n",
       "  </tbody>\n",
       "</table>\n",
       "<p>5937 rows × 3 columns</p>\n",
       "</div>"
      ],
      "text/plain": [
       "                                                Comment Emotion  \\\n",
       "0     i seriously hate one subject to death but now ...    fear   \n",
       "1                    im so full of life i feel appalled   anger   \n",
       "2     i sit here to write i start to dig out my feel...    fear   \n",
       "3     ive been really angry with r and i feel like a...     joy   \n",
       "4     i feel suspicious if there is no one outside l...    fear   \n",
       "...                                                 ...     ...   \n",
       "5932                 i begun to feel distressed for you    fear   \n",
       "5933  i left feeling annoyed and angry thinking that...   anger   \n",
       "5934  i were to ever get married i d have everything...     joy   \n",
       "5935  i feel reluctant in applying there because i w...    fear   \n",
       "5936  i just wanted to apologize to you because i fe...   anger   \n",
       "\n",
       "                                   preprocessed_comment  \n",
       "0      seriously hate subject death feel reluctant drop  \n",
       "1                                  m life feel appalled  \n",
       "2     sit write start dig feeling think afraid accep...  \n",
       "3                ve angry r feel like idiot trust place  \n",
       "4           feel suspicious outside like rapture happen  \n",
       "...                                                 ...  \n",
       "5932                              begin feel distressed  \n",
       "5933  leave feel annoyed angry thinking center stupi...  \n",
       "5934  marry d ready offer ve get club perfect good l...  \n",
       "5935  feel reluctant apply want able find company kn...  \n",
       "5936           want apologize feel like heartless bitch  \n",
       "\n",
       "[5937 rows x 3 columns]"
      ]
     },
     "execution_count": 16,
     "metadata": {},
     "output_type": "execute_result"
    }
   ],
   "source": [
    "df"
   ]
  },
  {
   "cell_type": "markdown",
   "id": "9043ff1d",
   "metadata": {},
   "source": [
    "# encoding target column"
   ]
  },
  {
   "cell_type": "code",
   "execution_count": 17,
   "id": "222fe5e0",
   "metadata": {},
   "outputs": [
    {
     "data": {
      "text/html": [
       "<div>\n",
       "<style scoped>\n",
       "    .dataframe tbody tr th:only-of-type {\n",
       "        vertical-align: middle;\n",
       "    }\n",
       "\n",
       "    .dataframe tbody tr th {\n",
       "        vertical-align: top;\n",
       "    }\n",
       "\n",
       "    .dataframe thead th {\n",
       "        text-align: right;\n",
       "    }\n",
       "</style>\n",
       "<table border=\"1\" class=\"dataframe\">\n",
       "  <thead>\n",
       "    <tr style=\"text-align: right;\">\n",
       "      <th></th>\n",
       "      <th>Comment</th>\n",
       "      <th>Emotion</th>\n",
       "      <th>preprocessed_comment</th>\n",
       "      <th>Emotion_num</th>\n",
       "    </tr>\n",
       "  </thead>\n",
       "  <tbody>\n",
       "    <tr>\n",
       "      <th>0</th>\n",
       "      <td>i seriously hate one subject to death but now ...</td>\n",
       "      <td>fear</td>\n",
       "      <td>seriously hate subject death feel reluctant drop</td>\n",
       "      <td>1</td>\n",
       "    </tr>\n",
       "    <tr>\n",
       "      <th>1</th>\n",
       "      <td>im so full of life i feel appalled</td>\n",
       "      <td>anger</td>\n",
       "      <td>m life feel appalled</td>\n",
       "      <td>2</td>\n",
       "    </tr>\n",
       "    <tr>\n",
       "      <th>2</th>\n",
       "      <td>i sit here to write i start to dig out my feel...</td>\n",
       "      <td>fear</td>\n",
       "      <td>sit write start dig feeling think afraid accep...</td>\n",
       "      <td>1</td>\n",
       "    </tr>\n",
       "    <tr>\n",
       "      <th>3</th>\n",
       "      <td>ive been really angry with r and i feel like a...</td>\n",
       "      <td>joy</td>\n",
       "      <td>ve angry r feel like idiot trust place</td>\n",
       "      <td>0</td>\n",
       "    </tr>\n",
       "    <tr>\n",
       "      <th>4</th>\n",
       "      <td>i feel suspicious if there is no one outside l...</td>\n",
       "      <td>fear</td>\n",
       "      <td>feel suspicious outside like rapture happen</td>\n",
       "      <td>1</td>\n",
       "    </tr>\n",
       "  </tbody>\n",
       "</table>\n",
       "</div>"
      ],
      "text/plain": [
       "                                             Comment Emotion  \\\n",
       "0  i seriously hate one subject to death but now ...    fear   \n",
       "1                 im so full of life i feel appalled   anger   \n",
       "2  i sit here to write i start to dig out my feel...    fear   \n",
       "3  ive been really angry with r and i feel like a...     joy   \n",
       "4  i feel suspicious if there is no one outside l...    fear   \n",
       "\n",
       "                                preprocessed_comment  Emotion_num  \n",
       "0   seriously hate subject death feel reluctant drop            1  \n",
       "1                               m life feel appalled            2  \n",
       "2  sit write start dig feeling think afraid accep...            1  \n",
       "3             ve angry r feel like idiot trust place            0  \n",
       "4        feel suspicious outside like rapture happen            1  "
      ]
     },
     "execution_count": 17,
     "metadata": {},
     "output_type": "execute_result"
    }
   ],
   "source": [
    "df['Emotion_num'] = df['Emotion'].map({'joy' : 0, 'fear': 1, 'anger': 2})\n",
    "\n",
    "df.head(5)"
   ]
  },
  {
   "cell_type": "markdown",
   "id": "75cf655d",
   "metadata": {},
   "source": [
    "# split data"
   ]
  },
  {
   "cell_type": "code",
   "execution_count": 18,
   "id": "1bb8ba3f",
   "metadata": {},
   "outputs": [],
   "source": [
    "X_train, X_test, y_train, y_test = train_test_split(df['preprocessed_comment'], df['Emotion_num'], \n",
    "                                                    test_size=0.2, random_state=42, stratify=df['Emotion_num'])"
   ]
  },
  {
   "cell_type": "code",
   "execution_count": 19,
   "id": "f6169400",
   "metadata": {},
   "outputs": [
    {
     "name": "stdout",
     "output_type": "stream",
     "text": [
      "Shape of X_train:  (4749,)\n",
      "Shape of X_test:  (1188,)\n"
     ]
    }
   ],
   "source": [
    "print(\"Shape of X_train: \", X_train.shape)\n",
    "print(\"Shape of X_test: \", X_test.shape)"
   ]
  },
  {
   "cell_type": "markdown",
   "id": "3484599e",
   "metadata": {},
   "source": [
    "# converting to numerical values"
   ]
  },
  {
   "cell_type": "code",
   "execution_count": 20,
   "id": "7df5eaf8",
   "metadata": {},
   "outputs": [
    {
     "name": "stdout",
     "output_type": "stream",
     "text": [
      "{'thrilled': 5448, 'lot': 3193, 'thing': 5436, 'feel': 1976, 'petrified': 3941, 'know': 3003, 'good': 2296, 'look': 3181, 'honor': 2547, 'word': 6037, 'help': 2488, 'start': 5111, 'way': 5925, 'trust': 5599, 'come': 981, 'quarter': 4249, 'invigorated': 2830, 'work': 6038, 'end': 1724, 'spring': 5076, 'sleep': 4889, 'eat': 1637, 'take': 5326, 'care': 757, 'firm': 2026, 'believer': 490, 'make': 3245, 'woman': 6028, 'terrific': 5403, 'great': 2335, 'trip': 5585, 'salon': 4614, 'lift': 3117, 'spirit': 5052, 'bit': 536, 'attempt': 352, 'hair': 2391, 'color': 970, 'session': 4745, 'later': 3042, 'brave': 633, 'crazy': 1175, 'saturday': 4636, 'night': 3623, 'ask': 316, 'shed': 4775, 'like': 3122, 'say': 4642, 'not': 3650, 'mind': 3393, 'suggestion': 5238, 'have': 2447, 'try': 5604, 'day': 1281, 'entertained': 1758, 'comfortable': 985, 'think': 5437, 'fit': 2028, 'love': 3202, 'talk': 5334, 'patient': 3877, 'nervous': 3593, 'minute': 3402, 'confuse': 1053, 'wait': 5881, 'long': 3178, 'time': 5470, 'read': 4320, 'second': 4689, 'book': 602, 'wrong': 6066, 'feeling': 1978, 'studio': 5194, 'reluctant': 4423, 'clint': 923, 'money': 3446, 'fund': 2181, 'movie': 3486, 'perspective': 3933, 'japanese': 2890, 'dew': 1413, 'positive': 4056, 'showing': 4819, 'south': 5017, 'encourage': 1722, 'writer': 6064, 'experience': 1878, 'level': 3102, 'advancement': 89, 'share': 4767, 'little': 3150, 'smug': 4927, 'usually': 5777, 'run': 4580, 'late': 3040, 'plan': 3991, 'convince': 1105, 'factor': 1910, 'culture': 1224, 'kind': 2984, 'cooking': 1110, 'mystique': 3531, 'blackburn': 545, 'stubborn': 5189, 'team': 5364, 'blackpool': 546, 'holloway': 2529, 'want': 5897, 'reaction': 4318, 'game': 2201, 'don': 1549, 'result': 4493, 'stress': 5172, 'learn': 3069, 'blog': 569, 'wish': 6020, 'gorgeous': 2303, 'nail': 3539, 'concoction': 1038, 've': 5803, 'soak': 4953, 'pale': 3825, 'bod': 586, 'fake': 1921, 'browness': 667, 'watch': 5920, 'soon': 4998, 'relieved': 4416, 'pick': 3963, 'boy': 623, 'shut': 4822, 'place': 3989, 'seize': 4704, 'dog': 1543, 'happy': 2419, 'get': 2248, 'listen': 3144, 'win': 6005, 'war': 5899, 'predatory': 4099, 'school': 4662, 'deform': 1326, 'hold': 2523, 'scotty': 4671, 'high': 2507, 'price': 4131, 'bundle': 692, 'joy': 2930, 'apprehensive': 274, 'sudden': 5229, 'completely': 1019, 'annoyed': 224, 'sure': 5267, 'leave': 3072, 'angry': 209, 'unhappy': 5694, 'cause': 785, 'member': 3346, 'staff': 5097, 'aggressive': 117, 'upset': 5760, 'hurt': 2605, 'final': 2010, 'personal': 3928, 'attack': 351, 'awful': 385, 'individual': 2710, 'bad': 403, 'attitude': 356, 'hateful': 2442, 'give': 2261, 'friendship': 2150, 'couple': 1146, 'reason': 4333, 'admit': 80, 'defeat': 1314, 'let': 3098, 'husband': 2607, 'insecure': 2750, 'need': 3578, 'avoid': 376, 'cut': 1242, 'life': 3113, 'security': 4697, 'challenge': 815, 'inspire': 2763, 'christmas': 878, 'present': 4113, 'away': 383, 'hate': 2440, 'hesitant': 2498, 'tell': 5380, 'truth': 5602, 'house': 2576, 'toy': 5528, 'rich': 4518, 'material': 3302, 'standard': 5106, 'grateful': 2328, 'consolidate': 1073, 'step': 5132, 'evaluate': 1813, 'purpose': 4233, 'provide': 4203, 'fabulous': 1906, 'vicarious': 5826, 'you': 6104, 'live': 3151, 'sarcasm': 4628, 'print': 4139, 'heartless': 2470, 'man': 3253, 'break': 635, 'heart': 2466, 'remember': 4430, 'frantic': 2127, 'point': 4022, 'fine': 2018, 'rest': 4490, 'left': 3076, 'uneasy': 5677, 'skin': 4877, 'fuck': 2168, 'tape': 5343, 'year': 6089, 'unsure': 5739, 'neutral': 3603, 'change': 820, 'agitated': 120, 'people': 3907, 'die': 1426, 'bother': 612, 'past': 3868, 'cry': 1216, 'perfect': 3911, 'weather': 5932, 'anxiety': 240, 'bring': 650, 'tether': 5412, 'overwhelmed': 3803, 'bless': 560, 'pray': 4090, 'fear': 1960, 'birthday': 534, 'incredibly': 2701, 'sarcastic': 4629, 'right': 4525, 'random': 4294, 'moment': 3439, 'suddenly': 5230, 'creative': 1180, 'sit': 4867, 'hear': 2464, 'tick': 5460, 'keyboard': 2974, 'key': 2973, 'thought': 5443, 'spill': 5048, 'screen': 4677, 'pain': 3819, 'anguish': 212, 'family': 1927, 'innocent': 2744, 'child': 858, 'kill': 2982, 'safe': 4602, 'honest': 2542, 'report': 4454, 'petty': 3944, 'tangible': 5340, 'pragmatic': 4084, 'sister': 4866, 'shaky': 4761, 'weak': 5926, 'light': 3118, 'head': 2452, 'yesterday': 6096, 'morning': 3460, 'wake': 5884, 'couldn': 1137, 'breathe': 640, 'properly': 4189, 'matter': 3305, 'deep': 1310, 'breath': 639, 'wasn': 5917, 'oxygen': 3809, 'go': 2286, 'threatened': 5446, 'anxious': 241, 'numb': 3664, 'detatche': 1397, 'emotion': 1701, 'environment': 1777, 'certain': 804, 'instinct': 2772, 'stop': 5153, 'speak': 5032, 'bitchy': 538, 'unappreciated': 5648, 'today': 5493, 'spiteful': 5057, 'see': 4698, 'face': 1907, 'pressure': 4119, 'inside': 2754, 'magical': 3234, 'happen': 2414, 'shoe': 4795, 'walk': 5888, 'park': 3849, 'beach': 460, 'jealous': 2897, 'friend': 2148, 'mom': 3438, 'politely': 4032, 'fearful': 1961, 'shaken': 4760, 'weird': 5951, 'yuuki': 6110, 'girl': 2258, 'guy': 2378, 'insult': 2776, 'ill': 2641, 'treat': 5568, 'lathi': 3043, 'charge': 827, 'ground': 2354, 'obligation': 3680, 'duty': 1616, 'expectation': 1875, 'intuition': 2820, 'guide': 2368, 'actual': 63, 'direction': 1451, 'extremely': 1899, 'course': 1148, 'extent': 1893, 'favour': 1957, 'disgusted': 1486, 'annoy': 222, 'action': 56, 'rush': 4585, 'intimidate': 2812, 'code': 950, 'vast': 5799, 'didn': 1425, 'send': 4718, 'crap': 1168, 'embarrass': 1689, 'oregon': 3756, 'ok': 3717, 'question': 4255, 'yell': 6093, 'mad': 3230, 'old': 3720, 'dad': 1252, 'home': 2533, 'will': 5996, 'distressed': 1522, 'solve': 4983, 'hopelessness': 2560, 'sadness': 4601, 'destroy': 1394, 'slowly': 4907, 'selfish': 4711, 'choice': 870, 'particularly': 3857, 'dangerous': 1266, 'chocolate': 869, 'cookie': 1109, 'strop': 5185, 'grumpy': 2361, 'miss': 3413, 'show': 4817, 'horse': 2567, 'relaxed': 4407, 'quiet': 4260, 'handle': 2406, 'frequently': 2139, 'strongly': 5184, 'isn': 2858, 'music': 3518, 'production': 4164, 'fashion': 1943, 'passionate': 3865, 'scared': 4649, 'jump': 2945, 'seat': 4686, 'grab': 2309, 'arm': 287, 'preferably': 4104, 'male': 3248, 'companion': 1004, 'vindictive': 5842, 'bitch': 537, 'mix': 3423, 'irritable': 2849, 'prayer': 4091, 'consider': 1066, 'act': 54, 'sec': 4688, 'type': 5632, 'situation': 4871, 'story': 5156, 'free': 2134, 'totally': 5519, 'trainable': 5542, 'chew': 854, 'habit': 2382, 'kid': 2979, 'training': 5544, 'process': 4156, 'confess': 1046, 'lose': 3190, 'tackle': 5319, 'political': 4034, 'idea': 2623, 'disgust': 1485, 'ugliness': 5637, 'current': 1234, 'society': 4963, 'especially': 1795, 'gina': 2257, 'imagine': 2649, 'write': 6063, 'letter': 3101, 'misgiving': 3409, 'half': 2394, 'luke': 3218, 'torture': 5514, 'car': 752, 'wash': 5915, 'generous': 2235, 'anticipation': 237, 'divine': 1529, 'climb': 919, 'hill': 2514, 'frustrate': 2165, 'pretty': 4124, 'pace': 3810, 'entirely': 1766, 'hamper': 2398, 'dent': 1354, 'glamorous': 2265, 'pressured': 4120, 'well': 5953, 'guess': 2365, 'decision': 1301, 'retrospect': 4500, 'wouldn': 6053, 'shake': 4759, 'harvest': 2433, 'keen': 2968, 'spend': 5043, 'style': 5204, 'ruin': 4578, 'outside': 3779, 'damp': 1260, 'air': 133, 'shape': 4766, 'increasingly': 2699, 'frustrated': 2166, 'daily': 1254, 'accumulation': 43, 'body': 588, 'fat': 1947, 'elusive': 1683, 'steal': 5126, 'mother': 3466, 'beat': 466, 'unreasonable': 5725, 'lend': 3086, 'threaten': 5445, 'pair': 3823, 'scissor': 4666, 'terrified': 5404, 'obsess': 3685, 'believe': 489, 'feminism': 1985, 'saving': 4641, 'power': 4073, 'rock': 4546, 'bauer': 456, 'proclaim': 4159, 'article': 300, 'skeptical': 4873, 'unconvinced': 5662, 'angered': 206, 'somewhat': 4992, 'liar': 3104, 'gym': 2380, 'neurotic': 3602, 'nolean': 3631, 'probably': 4153, 'lack': 3016, 'diy': 1533, 'art': 299, 'stuff': 5196, 'sorta': 5008, 'wihtout': 5993, 'cranky': 1166, 'cantankerous': 744, 'resentful': 4469, 'slave': 4888, 'basically': 446, 'rely': 4424, 'heavily': 2475, 'alcohol': 145, 'marijuana': 3277, 'separation': 4732, 'divorce': 1531, 'space': 5021, 'sanity': 4624, 'maternal': 3304, 'responsibility': 4488, 'intention': 2790, 'world': 6044, 'class': 896, 'player': 4003, 'benzema': 508, 'mould': 3476, 'fantastic': 1935, 'super': 5253, 'strong': 5183, 'bicep': 520, 'genuinely': 2242, 'vacation': 5785, 'heartbroken': 2467, 'lure': 3224, 'event': 1819, 'promise': 4181, 'champagne': 818, 'brilliant': 649, 'bestselle': 510, 'author': 368, 'kathy': 2964, 'lette': 3100, 'empower': 1711, 'timid': 5475, 'underground': 5665, 'murmur': 3514, 'quarrel': 4248, 'parent': 3845, 'convinced': 1106, 'emotionally': 1703, 'distraught': 1520, 'unable': 5646, 'concentrate': 1030, 'vulnerable': 5878, 'hit': 2518, 'publish': 4214, 'button': 711, 'intervention': 2808, 'behalf': 480, 'uncertain': 5654, 'reach': 4316, 'plateau': 3999, 'buy': 712, 'use': 5770, 'satisfied': 4635, 'wardrobe': 5901, 'decide': 1299, 'month': 3449, 'wear': 5930, 'ugly': 5638, 'pink': 3977, 'black': 544, 'running': 4582, 'cute': 1243, 'abit': 10, 'continue': 1095, 'irritated': 2851, 'grouchy': 2353, 'intermittent': 2801, 'lacklustre': 3017, 'pen': 3902, 'nice': 3614, 'doubtful': 1566, 'disappoint': 1462, 'actually': 64, 'phone': 3952, 'call': 726, 'hated': 2441, 'useless': 5772, 'week': 5942, 'ago': 122, 'valuable': 5793, 'abyss': 23, 'create': 1178, 'greedy': 2338, 'far': 1937, 'meet': 3337, 'supermarket': 5257, 'bank': 430, 'dentist': 1355, 'etc': 1801, 'paranoid': 3841, 'wonder': 6030, 'defriende': 1328, 'te': 5359, 'find': 2017, 'simplicity': 4848, 'balance': 415, 'ken': 2972, 'cool': 1111, 'certainly': 805, 'hockey': 2522, 'local': 3163, 'pub': 4212, 'pig': 3969, 'duke': 1604, 'parmesan': 3851, 'truffle': 5596, 'wing': 6010, 'prawn': 4089, 'lollipop': 3172, 'delicious': 1337, 'terrible': 5401, 'idealistic': 2624, 'expect': 1874, 'proporte': 4191, 'test': 5411, 'control': 1100, 'dissatisfaction': 1506, 'connect': 1058, 'enjoy': 1745, 'instead': 2770, 'withdraw': 6022, 'travel': 5563, 'superficial': 5254, 'easy': 1636, 'true': 5594, 'adventurous': 92, 'offended': 3702, 'line': 3135, 'questioning': 4257, 'stick': 5136, 'surround': 5277, 'talented': 5333, 'suffer': 5233, 'produce': 4161, 'worthwhile': 6051, 'awfully': 386, 'difficult': 1432, 'sensational': 4721, 'heat': 2471, 'ash': 311, 'stench': 5131, 'greasy': 2334, 'basic': 445, 'post': 4063, 'yeast': 6092, 'infection': 2720, 'mode': 3430, 'joyful': 2931, 'maybe': 3307, 'hormone': 2562, 'lie': 3111, 'worried': 6046, 'feelin': 1977, 'lil': 3128, 'uptight': 5764, 'sucky': 5228, 'lately': 3041, 'confused': 1054, 'drunk': 1597, 'fab': 1904, 'bitter': 540, 'rise': 4536, 'cheat': 840, 'appear': 265, 'content': 1090, 'ne': 3570, 'mellow': 3343, 'spite': 5056, 'rage': 4283, 'pm': 4018, 'mean': 3315, 'likely': 3126, 'erupt': 1790, 'warning': 5910, 'flirty': 2062, 'playful': 4004, 'sexy': 4755, 'reckless': 4348, 'brother': 663, 'law': 3051, 'popular': 4045, 'stiff': 5138, 'participate': 3855, 'sketch': 4874, 'dare': 1268, 'big': 522, 'stiller': 5140, 'vaughn': 5800, 'hater': 2443, 'enjoyment': 1747, 'performance': 3914, 'character': 825, 'hour': 2575, 'bump': 690, 'score': 4669, 'mark': 3278, 'mixture': 3425, 'professor': 4168, 'generate': 2229, 'usmleasy': 5775, 'one': 3728, 'lucky': 3214, 'awesome': 384, 'belong': 496, 'middle': 3375, 'aaron': 2, 'tension': 5395, 'permeate': 3921, 'calm': 730, 'storm': 5155, 'amused': 190, 'sense': 4722, 'real': 4326, 'danger': 1265, 'shock': 4792, 'overly': 3792, 'distracted': 1518, 'tabby': 5317, 'path': 3873, 'route': 4568, 'wood': 6033, 'creek': 1187, 'meadow': 3313, 'cold': 959, 'refresh': 4377, 'summer': 5245, 'relaxation': 4406, 'carefree': 760, 'intense': 2787, 'struggle': 5188, 'move': 3484, 'proud': 4201, 'respect': 4483, 'pull': 4218, 'fix': 2031, 'issue': 2864, 'slightly': 4896, 'optimistic': 3749, 'connection': 1059, 'human': 2590, 'responsible': 4489, 'occasion': 3690, 'remind': 4432, 'pattern': 3881, 'conduct': 1043, 'different': 1430, 'demand': 1344, 'beloved': 498, 'push': 4236, 'spin': 5049, 'dance': 1262, 'drum': 1596, 'despise': 1386, 'haven': 2448, 'segregate': 4703, 'window': 6008, 'cross': 1200, 'beam': 462, 'metre': 3369, 'gracious': 2312, 'freak': 2131, 'finance': 2013, 'smooth': 4923, 'monetarily': 3445, 'twist': 5626, 'explanation': 1882, 'violent': 5849, 'patience': 3876, 'image': 2647, 'pop': 4043, 'deal': 1289, 'knot': 3002, 'shoelace': 4796, 'affect': 100, 'relationship': 4402, 'loss': 3191, 'engineer': 1740, 'dsp': 1599, 'design': 1376, 'eventually': 1821, 'job': 2914, 'financial': 2014, 'number': 3665, 'crunch': 1210, 'software': 4972, 'company': 1005, 'hostile': 2571, 'credit': 1186, 'card': 756, 'annoying': 225, 'unfit': 5686, 'determination': 1398, 'poo': 4039, 'vicious': 5828, 'circle': 885, 'wine': 6009, 'amuse': 189, 'sell': 4713, 'impressionable': 2675, 'emotional': 1702, 'hope': 2555, 'thanksgiving': 5421, 'wide': 5988, 'open': 3735, 'hard': 2422, 'excited': 1850, 'nostalgic': 3648, 'rude': 4573, 'snappy': 4933, 'touch': 5521, 'toast': 5490, 'sincere': 4853, 'huge': 2586, 'group': 2355, 'hug': 2585, 'link': 3137, 'rel': 4398, 'stylesheet': 5205, 'text': 5413, 'css': 1219, 'href': 2579, 'http': 2581, 'jdelivery': 2896, 'young': 6105, 'teenager': 5376, 'wave': 5923, 'cafe': 716, 'mill': 3389, 'turn': 5619, 'restaurant': 4491, 'personality': 3929, 'food': 2088, 'talkative': 5335, 'person': 3926, 'glad': 2264, 'uncomfortable': 5659, 'substance': 5215, 'yoga': 6102, 'homework': 2540, 'shy': 4823, 'afraid': 107, 'keep': 2970, 'view': 5835, 'wanna': 5896, 'productive': 4165, 'grumble': 2360, 'scratch': 4674, 'butt': 708, 'dark': 1269, 'room': 4556, 'figure': 2005, 'heed': 2479, 'advice': 94, 'kinda': 2985, 'piss': 3984, 'wimpy': 6004, 'complain': 1016, 'semester': 4715, 'regularly': 4389, 'suck': 5226, 'constantly': 1076, 'death': 1292, 'indecisive': 2703, 'negative': 3581, 'highschool': 2510, 'damn': 1259, 'store': 5154, 'complete': 1018, 'input': 2746, 'tonight': 5508, 'knitting': 3000, 'stitching': 5148, 'shop': 4801, 'offend': 3701, 'married': 3282, 'senior': 4719, 'pastor': 3870, 'reality': 4329, 'glaring': 2268, 'inexperience': 2719, 'stressed': 5173, 'military': 3387, 'definitely': 1324, 'lock': 3165, 'lifeline': 3114, 'loop': 3185, 'cleat': 911, 'pile': 3971, 'gas': 2209, 'spark': 5027, 'plug': 4015, 'cover': 1153, 'hole': 2524, 'duct': 1602, 'tortured': 5515, 'inspiration': 2762, 'strike': 5177, 'cos': 1129, 'answer': 232, 'drop': 1592, 'aid': 129, 'plus': 4017, 'quitter': 4266, 'fragile': 2121, 'tear': 5365, 'eye': 1901, 'energetic': 1733, 'honestly': 2543, 'generally': 2228, 'junk': 2947, 'yeah': 6088, 'bully': 686, 'powerful': 4074, 'physically': 3958, 'thrill': 5447, 'absolutely': 17, 'suspicious': 5284, 'understand': 5667, 'memory': 3347, 'precious': 4093, 'cherish': 851, 'inhibit': 2731, 'self': 4710, 'finish': 2020, 'million': 3391, 'able': 11, 'focus': 2078, 'task': 5347, 'separately': 4731, 'mike': 3382, 'deeply': 1311, 'information': 2727, 'delight': 1338, 'reward': 4513, 'practical': 4079, 'outcome': 3768, 'date': 1276, 'outgoing': 3773, 'ease': 1631, 'rhetoric': 4516, 'behaviour': 483, 'apc': 254, 'leader': 3064, 'remain': 4425, 'silent': 4840, 'expression': 1890, 'equally': 1785, 'morally': 3457, 'outraged': 3777, 'regardless': 4383, 'michigan': 3373, 'new': 3605, 'york': 6103, 'governor': 2307, 'prostitute': 4194, 'wife': 5990, 'daughter': 1277, 'back': 395, 'paint': 3822, 'owl': 3808, 'simple': 4847, 'template': 5383, 'easily': 1634, 'blank': 553, 'canvas': 746, 'invest': 2825, 'internet': 2803, 'dummy': 1607, 'status': 5123, 'pariah': 3847, 'honoured': 2550, 'host': 2569, 'series': 4737, 'talente': 5332, 'visit': 5860, 'rally': 4289, 'finland': 2021, 'nap': 3549, 'bouncy': 618, 'pram': 4086, 'gervase': 2246, 'pipe': 3982, 'accept': 27, 'invitation': 2831, 'brew': 645, 'aware': 380, 'draw': 1580, 'solid': 4978, 'bag': 409, 'brown': 666, 'throw': 5454, 'vibrant': 5824, 'patent': 3872, 'red': 4360, 'metallic': 3365, 'clutch': 941, 'accessory': 31, 'lonely': 3176, 'cat': 777, 'press': 4118, 'play': 4002, 'row': 4570, 'receive': 4339, 'judgment': 2939, 'white': 5976, 'problem': 4155, 'entitle': 1768, 'whining': 5969, 'delusion': 1341, 'rebellious': 4336, 'sake': 4610, 'embarrased': 1688, 'sad': 4597, 'tranny': 5547, 'title': 5487, 'blake': 550, 'lively': 3154, 'www': 6072, 'sam': 4615, 'oblige': 3681, 'master': 3297, 'wanting': 5898, 'eager': 1621, 'attention': 354, 'desire': 1379, 'return': 4501, 'affection': 101, 'clear': 908, 'sexually': 4754, 'psychologically': 4210, 'currently': 1235, 'lest': 3096, 'ringing': 4531, 'sick': 4826, 'holiday': 2525, 'teach': 5361, 'nursery': 3668, 'special': 5033, 'study': 5195, 'curriculum': 1236, 'lesson': 3095, 'enjoyable': 1746, 'interesting': 2799, 'pupil': 4229, 'foot': 2092, 'stadium': 5096, 'reflect': 4373, 'vocal': 5868, 'opinion': 3740, 'fact': 1909, 'hu': 2582, 'jia': 2911, 'future': 2192, 'bed': 472, 'virtual': 5854, 'silence': 4839, 'agitate': 119, 'constant': 1075, 'noise': 3630, 'chatter': 837, 'anansi': 195, 'dallas': 1256, 'unfold': 5688, 'helpless': 2489, 'acceptance': 29, 'unza': 5750, 'pass': 3861, 'accidentally': 33, 'catch': 779, 'glimpse': 2273, 'mirror': 3404, 'impromptu': 2677, 'picture': 3966, 'assault': 322, 'forget': 2103, 'glance': 2267, 'stroll': 5182, 'sidewalk': 4830, 'envious': 1775, 'explain': 1881, 'exhibit': 1866, 'piece': 3968, 'stressful': 5174, 'dissatisfied': 1507, 'happily': 2416, 'bob': 585, 'explore': 1885, 'abstract': 19, 'universe': 5707, 'contact': 1087, 'form': 2106, 'bond': 596, 'encounter': 1721, 'snowglobe': 4950, 'fly': 2075, 'determined': 1400, 'rarely': 4306, 'advance': 88, 'rule': 4579, 'online': 3730, 'prepared': 4111, 'somebodys': 4986, 'evening': 1818, 'pie': 3967, 'crust': 1214, 'recipe': 4345, 'joseph': 2923, 'walt': 5894, 'defend': 1315, 'god': 2288, 'concern': 1032, 'circumstance': 887, 'disabled': 1457, 'deserve': 1375, 'dignity': 1436, 'shun': 4820, 'laugh': 3044, 'xox': 6081, 'll': 3157, 'flawless': 2047, 'mid': 3374, 'october': 3697, 'workload': 6041, 'limited': 3133, 'arrangment': 293, 'focused': 2079, 'lead': 3062, 'pursue': 4234, 'treadmill': 5566, 'puzzle': 4240, 'improve': 2679, 'motor': 3473, 'skill': 4875, 'follow': 2084, 'set': 4746, 'instruction': 2775, 'order': 3752, 'syndrome': 5312, 'begin': 478, 'internally': 2802, 'nauseous': 3566, 'shortness': 4809, 'pound': 4070, 'discover': 1477, 'snooze': 4946, 'value': 5794, 'appreciate': 271, 'nature': 3561, 'distract': 1517, 'block': 568, 'traffic': 5536, 'glint': 2274, 'madness': 3231, 'pathological': 3875, 'curiosity': 1231, 'totality': 5518, 'gift': 2253, 'compete': 1013, 'sweep': 5293, 'superstition': 5258, 'pay': 3887, 'extra': 1896, 'caution': 786, 'forward': 2116, 'courthouse': 1151, 'cheerfully': 846, 'chat': 836, 'judge': 2938, 'chamber': 817, 'respected': 4484, 'notion': 3654, 'ensure': 1755, 'felt': 1983, 'unfairly': 5681, 'airport': 134, 'egan': 1661, 'kurt': 3009, 'familiar': 1926, 'church': 881, 'stay': 5124, 'clingy': 920, 'meeting': 3338, 'wig': 5991, 'account': 41, 'model': 3431, 'beautiful': 467, 'private': 4147, 'casual': 775, 'plain': 3990, 'tank': 5341, 'loose': 3186, 'bottom': 616, 'zara': 6113, 'resolve': 4478, 'dissipate': 1510, 'powerless': 4075, 'resolution': 4477, 'coope': 1112, 'determine': 1399, 'stretch': 5175, 'chance': 819, 'tree': 5570, 'grandparent': 2324, 'obviously': 3689, 'conducive': 1042, 'philosophy': 3950, 'brow': 665, 'harbor': 2421, 'sweet': 5294, 'grow': 2357, 'awake': 378, 'breast': 637, 'milk': 3388, 'baby': 394, 'formula': 2109, 'doodly': 1553, 'artistic': 305, 'hungry': 2602, 'trendy': 5574, 'stellar': 5129, 'wonderful': 6031, 'choose': 872, 'alphabet': 164, 'jsk': 2934, 'length': 3088, 'lolita': 3171, 'dress': 1585, 'knee': 2996, 'jane': 2886, 'austen': 365, 'nauseate': 3565, 'concerned': 1033, 'betray': 512, 'waste': 5918, 'practically': 4080, 'option': 3750, 'drama': 1578, 'girlfriend': 2259, 'apt': 279, 'mention': 3352, 'coercive': 951, 'pushy': 4237, 'classmate': 899, 'merit': 3357, 'grade': 2313, 'humility': 2595, 'hypocritical': 2616, 'disgusting': 1487, 'peace': 3892, 'welcome': 5952, 'packing': 3814, 'bye': 714, 'overwhelming': 3804, 'displacement': 1498, 'instantly': 2769, 'terrorise': 5409, 'hopeful': 2556, 'orphan': 3762, 'crisis': 1194, 'country': 1145, 'expert': 1880, 'getting': 2250, 'neglect': 3584, 'undeservedly': 5673, 'harm': 2429, 'mary': 3289, 'anne': 218, 'impatient': 2658, 'boundary': 619, 'conversation': 1103, 'confidence': 1047, 'strength': 5170, 'attend': 353, 'amp': 188, 'lay': 3055, 'majorly': 3244, 'cast': 774, 'alternate': 167, 'timeline': 5471, 'stuck': 5191, 'unrest': 5728, 'christian': 875, 'disciple': 1468, 'christ': 874, 'manifestation': 3258, 'slight': 4894, 'whiff': 5965, 'privileged': 4150, 'artistry': 306, 'terribly': 5402, 'unkind': 5710, 'span': 5024, 'font': 2087, 'size': 4872, 'programme': 4173, 'placce': 3988, 'nasty': 3555, 'outright': 3778, 'remark': 4426, 'colleague': 962, 'compliment': 1022, 'deplete': 1361, 'mental': 3349, 'checklist': 842, 'someone': 4987, 'spiritual': 5053, 'intellectual': 2782, 'progress': 4175, 'exert': 1863, 'important': 2665, 'energy': 1737, 'pleasant': 4008, 'vibration': 5825, 'hand': 2400, 'peter': 3939, 'recent': 4341, 'interest': 2797, 'decidedly': 1300, 'egalitarian': 1660, 'feminist': 1986, 'jonalyn': 2920, 'fincher': 2016, 'soulation': 5010, 'list': 3143, 'leanne': 3067, 'appal': 260, 'justify': 2951, 'behavior': 482, 'faithful': 1919, 'reader': 4321, 'sooo': 4999, 'devin': 1408, 'profoundly': 4171, 'sign': 4836, 'courage': 1147, 'round': 4566, 'md': 3312, 'teen': 5374, 'offer': 3706, 'guidance': 2367, 'support': 5260, 'img': 2651, 'aligncenter': 151, 'wp': 6057, 'src': 5090, 'mrdanbaird': 3489, 'bashful': 444, 'milestone': 3386, 'race': 4273, 'novice': 3659, 'social': 4959, 'diktat': 1439, 'authority': 369, 'worry': 6047, 'computer': 1028, 'party': 3860, 'roommate': 4557, 'criticism': 1197, 'lunch': 3221, 'stink': 5144, 'somebody': 4985, 'comment': 991, 'embarrassed': 1690, 'powerlessness': 4076, 'tizzy': 5488, 'haagen': 2381, 'dazs': 1285, 'default': 1313, 'smile': 4918, 'tug': 5613, 'lip': 3140, 'speech': 5038, 'successful': 5223, 'uplifting': 5756, 'prop': 4187, 'graduate': 2316, 'combination': 977, 'jaw': 2893, 'jam': 2882, 'excessive': 1847, 'noseband': 3647, 'considerable': 1067, 'metal': 3364, 'mouth': 3483, 'overall': 3785, 'disrupt': 1504, 'grim': 2345, 'honored': 2548, 'kassim': 2960, 'selamat': 4705, 'swallow': 5288, 'sip': 4863, 'sensation': 4720, 'iced': 2622, 'capp': 749, 'queen': 4251, 'nation': 3557, 'miscreant': 3406, 'exactly': 1834, 'immediately': 2654, 'comeback': 982, 'rapture': 4304, 'sociable': 4958, 'bore': 607, 'restless': 4492, 'sob': 4955, 'ache': 46, 'longing': 3179, 'settle': 4748, 'weariness': 5931, 'slip': 4898, 'shoulder': 4813, 'unwelcome': 5746, 'notice': 3653, 'please': 4009, 'fabric': 1905, 'project': 4176, 'personally': 3931, 'millennia': 3390, 'brainstorm': 629, 'particular': 3856, 'vice': 5827, 'blogge': 570, 'check': 841, 'aggravate': 115, 'career': 759, 'goal': 2287, 'creatively': 1181, 'stimulating': 5142, 'fulfil': 2173, 'teaching': 5363, 'confident': 1048, 'education': 1655, 'irate': 2838, 'idiot': 2630, 'bunch': 691, 'weren': 5955, 'nick': 3616, 'snake': 4930, 'truly': 5597, 'brooklyn': 661, 'latch': 3039, 'bottle': 615, 'skip': 4880, 'exercise': 1862, 'energized': 1736, 'assumption': 335, 'inform': 2726, 'marry': 3283, 'xbla': 6075, 'sony': 4997, 'handheld': 2405, 'shaun': 4773, 'dlpt': 1536, 'suppose': 5263, 'lady': 3019, 'remix': 4434, 'cash': 773, 'protect': 4195, 'belonging': 497, 'laundering': 3047, 'compare': 1007, 'childlike': 861, 'silly': 4842, 'smoothly': 4925, 'interested': 2798, 'gfather': 2251, 'ute': 5779, 'load': 3159, 'shit': 4788, 'prefer': 4103, 'manure': 3267, 'version': 5818, 'compost': 1024, 'classroom': 900, 'joke': 2918, 'strange': 5161, 'pack': 3812, 'close': 927, 'secondary': 4690, 'age': 112, 'usual': 5776, 'oh': 3713, 'costly': 1132, 'futile': 2191, 'therapy': 5430, 'wryly': 6069, 'banal': 423, 'comedy': 983, 'error': 1788, 'diet': 1427, 'coke': 957, 'swimming': 5301, 'mousekin': 3482, 'listener': 3145, 'giant': 2252, 'glass': 2270, 'vigilant': 5837, 'sand': 4620, 'whoosh': 5984, 'dipshit': 1448, 'varnish': 5798, 'frightened': 2154, 'document': 1540, 'enter': 1756, 'clinic': 921, 'ivory': 2873, 'theme': 5425, 'furniture': 2188, 'clean': 904, 'spacious': 5022, 'professional': 4167, 'cheerful': 845, 'consultant': 1083, 'await': 377, 'reception': 4343, 'coz': 1157, 'intentional': 2791, 'ungrateful': 5692, 'inconsiderate': 2693, 'alexis': 147, 'pissed': 3985, 'bite': 539, 'fucking': 2170, 'log': 3167, 'frickin': 2145, 'importantly': 2666, 'calmed': 731, 'possible': 4061, 'shot': 4810, 'difference': 1429, 'condition': 1040, 'worker': 6039, 'express': 1889, 'acceptable': 28, 'fail': 1913, 'discourage': 1476, 'mistake': 3417, 'simply': 4849, 'survive': 5280, 'trauma': 5561, 'seoul': 4729, 'sentence': 4726, 'derek': 1370, 'blah': 549, 'assert': 324, 'range': 4297, 'select': 4707, 'spray': 5073, 'expose': 1888, 'variant': 5797, 'hide': 2505, 'slap': 4885, 'upside': 5762, 'clay': 903, 'limit': 3131, 'mastery': 3298, 'motivated': 3471, 'workout': 6042, 'lense': 3089, 'blue': 578, 'laughter': 3045, 'weigh': 5946, 'heavy': 2476, 'student': 5193, 'display': 1499, 'intellect': 2781, 'irritation': 2852, 'anger': 205, 'twitch': 5628, 'swell': 5298, 'quiver': 4267, 'quick': 4258, 'thank': 5417, 'toby': 5491, 'tunji': 5616, 'boyfriend': 624, 'split': 5061, 'confrontation': 1051, 'arouse': 291, 'part': 3852, 'stand': 5105, 'realize': 4331, 'fast': 1945, 'thinking': 5438, 'timing': 5476, 'fold': 2082, 'synthetic': 5313, 'pearl': 3895, 'elegant': 1676, 'jewelry': 2910, 'trinket': 5584, 'directly': 1452, 'suffocated': 5235, 'challenging': 816, 'wrap': 6058, 'closure': 931, 'conclusion': 1037, 'doesn': 1542, 'annulment': 227, 'case': 772, 'brazil': 634, 'bus': 704, 'steep': 5128, 'mountain': 3479, 'fall': 1922, 'julian': 2943, 'sort': 5007, 'vibe': 5823, 'willy': 6001, 'nilly': 3626, 'idreamculture': 2634, 'apart': 248, 'having': 2449, 'overtly': 3798, 'public': 4213, 'pretend': 4123, 'bothered': 613, 'escort': 1793, 'relative': 4403, 'bike': 524, 'instinctively': 2773, 'pleased': 4010, 'passer': 3863, 'example': 1839, 'saint': 4609, 'beauty': 469, 'angel': 204, 'quit': 4265, 'base': 442, 'scar': 4647, 'injury': 2738, 'aren': 283, 'cutting': 1245, 'rid': 4519, 'conceal': 1029, 'venerable': 5809, 'advantage': 90, 'cycle': 1248, 'craving': 1172, 'drive': 1588, 'binge': 528, 'guilty': 2370, 'conscience': 1061, 'medical': 3327, 'assistant': 331, 'moaning': 3428, 'bathroom': 452, 'cluttered': 942, 'relate': 4399, 'spa': 5020, 'treatment': 5569, 'neighbour': 3587, 'muze': 3525, 'mujhe': 3500, 'hey': 2501, 'kay': 2966, 'zay': 6114, 'dinner': 1446, 'valued': 5795, 'diary': 1420, 'add': 66, 'college': 966, 'productivity': 4166, 'gear': 2220, 'chalk': 814, 'train': 5541, 'army': 290, 'pigeon': 3970, 'tiny': 5478, 'uninhabited': 5700, 'island': 2856, 'capable': 747, 'depressed': 1365, 'gratitude': 2330, 'general': 2227, 'pump': 4220, 'yearning': 6090, 'semblance': 4714, 'normality': 3643, 'dancing': 1264, 'arab': 280, 'fully': 2178, 'armed': 288, 'soldier': 4974, 'tugging': 5614, 'relieve': 4415, 'musical': 3519, 'taste': 5348, 'wander': 5895, 'techno': 5371, 'slander': 4884, 'tradition': 5534, 'stranger': 5163, 'door': 1555, 'message': 3361, 'lifestyle': 3115, 'vile': 5839, 'traitor': 5545, 'hardly': 2426, 'weekend': 5943, 'jot': 2925, 'sympathy': 5310, 'hussein': 2608, 'thug': 5455, 'administration': 75, 'street': 5169, 'irrationally': 2844, 'amazingness': 173, 'blogger': 571, 'perfectly': 3912, 'organize': 3759, 'plant': 3996, 'worth': 6049, 'positively': 4057, 'film': 2008, 'argue': 285, 'effect': 1656, 'verdict': 5814, 'sewing': 4751, 'schedule': 4659, 'thankful': 5418, 'whoop': 5983, 'holler': 2527, 'suitably': 5241, 'jubilant': 2935, 'tad': 5321, 'constipate': 1077, 'yhhhay': 6097, 'naight': 3538, 'necessary': 3574, 'newborn': 3607, 'photograph': 3954, 'bald': 417, 'blonde': 574, 'sneha': 4936, 'sheri': 4780, 'king': 2987, 'switch': 5304, 'doctor': 1539, 'assume': 334, 'water': 5922, 'frozen': 2161, 'plenty': 4012, 'feed': 1972, 'eschew': 1792, 'favor': 1954, 'forage': 2095, 'drain': 1577, 'defense': 1316, 'persom': 3925, 'wickdly': 5986, 'dlk': 1535, 'marvel': 3286, 'humble': 2592, 'stare': 5110, 'drink': 1586, 'pot': 4065, 'coffee': 952, 'triumphant': 5588, 'consist': 1070, 'poop': 4041, 'lovely': 3204, 'resource': 4482, 'hum': 2589, 'warmth': 5907, 'leg': 3077, 'shift': 4782, 'gain': 2196, 'quake': 4243, 'boat': 584, 'shore': 4804, 'capacity': 748, 'producer': 4162, 'actor': 61, 'david': 1279, 'onscreen': 3731, 'box': 622, 'horrible': 2563, 'anymore': 244, 'immedietly': 2655, 'wal': 5885, 'mart': 3284, 'description': 1374, 'soft': 4970, 'concept': 1031, 'lit': 3147, 'redundant': 4367, 'credential': 1185, 'damage': 1258, 'wristwatch': 6062, 'violence': 5848, 'opportunity': 3742, 'hell': 2486, 'favorite': 1956, 'table': 5318, 'tournament': 5526, 'deck': 1302, 'possibly': 4062, 'zendikar': 6116, 'rotate': 4561, 'ou': 3765, 'competition': 1014, 'state': 5118, 'squad': 5082, 'rain': 4285, 'squeal': 5085, 'glee': 2272, 'mud': 3496, 'squish': 5089, 'toe': 5496, 'outdoors': 3769, 'quixote': 4269, 'blinding': 563, 'windmill': 6007, 'eventual': 1820, 'marriage': 3281, 'seemad': 4700, 'odd': 3698, 'grandfather': 2321, 'fuel': 2171, 'fire': 2024, 'budget': 680, 'spreadsheet': 5075, 'someplace': 4988, 'stupid': 5200, 'government': 2306, 'gulp': 2373, 'tired': 5482, 'intelligent': 2785, 'teacher': 5362, 'sweat': 5290, 'finally': 2012, 'position': 4055, 'indulge': 2713, 'jubilation': 2936, 'claim': 892, 'bar': 435, 'explorer': 1886, 'enuff': 1772, 'stairs': 5102, 'bedroom': 473, 'baffroom': 408, 'bitterly': 541, 'unfair': 5680, 'driver': 1589, 'spazze': 5031, 'stomach': 5150, 'ibleeditout': 2619, 'kodi': 3006, 'brat': 632, 'choir': 871, 'venue': 5812, 'foundry': 2119, 'childhood': 859, 'humor': 2597, 'shield': 4781, 'bay': 457, 'appearance': 266, 'wherewithal': 5964, 'put': 4238, 'meantime': 3319, 'fun': 2179, 'suspicion': 5283, 'negativity': 3583, 'large': 3035, 'stud': 5192, 'attach': 350, 'decorative': 1305, 'stitch': 5147, 'visible': 5857, 'warm': 5904, 'muscle': 3516, 'midst': 3378, 'quirky': 4264, 'int': 2778, 'generational': 2231, 'regular': 4388, 'accomplish': 36, 'epic': 1781, 'feat': 1963, 'breathing': 641, 'steroid': 5135, 'clueless': 938, 'homesick': 2538, 'andover': 199, 'discussion': 1479, 'partly': 3858, 'persistent': 3924, 'nonsense': 3637, 'advertising': 93, 'petrify': 3942, 'someway': 4991, 'mask': 3292, 'divert': 1528, 'weakness': 5927, 'constructive': 1081, 'envision': 1779, 'intend': 2786, 'vision': 5859, 'horribly': 2564, 'tragic': 5538, 'transpire': 5556, 'research': 4466, 'renovation': 4441, 'mammoth': 3252, 'blessed': 561, 'blessing': 562, 'recognition': 4351, 'resonate': 4480, 'uncaring': 5653, 'exist': 1870, 'heavenly': 2474, 'father': 1950, 'guilt': 2369, 'embrace': 1693, 'beginning': 479, 'janine': 2887, 'achievement': 49, 'lisa': 3142, 'morris': 3462, 'quickly': 4259, 'closet': 929, 'tip': 5479, 'imdoe': 2650, 'punch': 4223, 'single': 4859, 'surrounding': 5278, 'myriad': 3527, 'ashton': 313, 'isaac': 2853, 'involve': 2833, 'pro': 4152, 'active': 57, 'award': 379, 'bothersome': 614, 'lab': 3012, 'rat': 4308, 'exceptionally': 1846, 'tomorrow': 5503, 'monday': 3444, 'timetable': 5474, 'clever': 914, 'concert': 1034, 'previous': 4128, 'arrive': 296, 'zealand': 6115, 'overseas': 3796, 'exhilarate': 1867, 'scenery': 4655, 'gut': 2376, 'laetshi': 3020, 'fluster': 2073, 'shitty': 4789, 'aspect': 319, 'impression': 2674, 'everything': 1826, 'statement': 5119, 'co': 944, 'ridiculous': 4523, 'colourful': 974, 'phrase': 3956, 'asleep': 318, 'tongue': 5506, 'heave': 2472, 'sigh': 4834, 'doubt': 1565, 'save': 4640, 'lightly': 3121, 'ear': 1624, 'secret': 4691, 'sloth': 4904, 'altitude': 168, 'customer': 1241, 'assure': 336, 'bright': 648, 'ocean': 3696, 'freaking': 2132, 'crash': 1170, 'majority': 3243, 'earth': 1628, 'immense': 2656, 'proto': 4200, 'corner': 1121, 'agent': 114, 'publishing': 4216, 'contract': 1096, 'garbage': 2207, 'allergy': 156, 'cancel': 739, 'quietly': 4261, 'ecstatic': 1648, 'painless': 3821, 'grocery': 2349, 'expense': 1876, 'being': 486, 'recognize': 4352, 'essentially': 1799, 'america': 180, 'iteration': 2870, 'junior': 2946, 'designer': 1377, 'consideration': 1069, 'anxiously': 242, 'bear': 463, 'ww': 6071, 'pregnancy': 4105, 'lazy': 3060, 'video': 5832, 'writing': 6065, 'ready': 4325, 'presence': 4112, 'ruach': 4571, 'hakodesh': 2393, 'holy': 2531, 'oooh': 3733, 'proof': 4186, 'scene': 4654, 'pride': 4132, 'nonchalant': 3635, 'easi': 1633, 'extreme': 1898, 'solution': 4982, 'average': 375, 'invigorate': 2829, 'dwell': 1619, 'episode': 1783, 'scare': 4648, 'agiatate': 118, 'sis': 4865, 'darn': 1272, 'geek': 2221, 'amy': 192, 'occasionally': 3692, 'reset': 4472, 'guard': 2364, 'mount': 3478, 'hubby': 2583, 'join': 2917, 'agree': 124, 'friendly': 2149, 'flight': 2055, 'pe': 3890, 'lestat': 3097, 'integrity': 2780, 'intact': 2779, 'sane': 4623, 'beneath': 502, 'wobbly': 6026, 'savage': 4639, 'wax': 5924, 'doll': 1545, 'cloud': 934, 'blow': 576, 'tak': 5325, 'bare': 438, 'till': 5469, 'racial': 4275, 'religious': 4418, 'slur': 4909, 'aim': 131, 'facebook': 1908, 'update': 5754, 'thirty': 5439, 'lush': 3227, 'recall': 4338, 'grey': 2342, 'sky': 4882, 'cautious': 787, 'nominate': 3632, 'journey': 2929, 'kick': 2978, 'coulter': 1138, 'ed': 1649, 'schultz': 4663, 'viewer': 5836, 'outrage': 3776, 'collective': 965, 'tirade': 5480, 'combine': 978, 'flat': 2038, 'tire': 5481, 'wound': 6054, 'headless': 2455, 'bird': 532, 'ya': 6084, 'allah': 155, 'puff': 4217, 'glamourous': 2266, 'naked': 3541, 'enormous': 1750, 'flamingo': 2036, 'fight': 2003, 'disease': 1482, 'uncontrollably': 5661, 'independence': 2705, 'operation': 3739, 'badly': 405, 'unprotected': 5723, 'safety': 4604, 'net': 3599, 'socket': 4965, 'unintentionally': 5701, 'outfits': 3772, 'libertine': 3108, 'depend': 1359, 'partner': 3859, 'taunt': 5354, 'ability': 9, 'frailty': 2124, 'exterior': 1894, 'existance': 1871, 'masculinity': 3291, 'relived': 4420, 'truely': 5595, 'allow': 159, 'targeted': 5345, 'song': 4994, 'logistic': 3169, 'non': 3634, 'loving': 3206, 'forum': 2115, 'unmentione': 5716, 'narrative': 3552, 'unity': 5705, 'include': 2690, 'highlight': 2508, 'teddy': 5372, 'attractive': 358, 'unleash': 5713, 'fromthe': 2159, 'virgin': 5852, 'artist': 304, 'entire': 1764, 'obnoxious': 3682, 'vocab': 5867, 'hint': 2515, 'shockingly': 4794, 'amazing': 171, 'cesspool': 806, 'mysterious': 3528, 'sea': 4683, 'intimately': 2811, 'buoy': 695, 'surrender': 5276, 'transcendent': 5550, 'surge': 5270, 'singapore': 4856, 'sara': 4626, 'div': 1526, 'clearboth': 909, 'padding': 3815, 'flounder': 2069, 'alway': 170, 'elusively': 1684, 'fairy': 1917, 'deliver': 1340, 'festive': 1989, 'wipe': 6016, 'mentally': 3351, 'brain': 627, 'pic': 3962, 'cam': 732, 'newton': 3611, 'panther': 3833, 'prime': 4135, 'broom': 662, 'scrub': 4681, 'brush': 672, 'vinegar': 5844, 'newspaper': 3610, 'embed': 1691, 'deke': 1331, 'fuckin': 2169, 'stair': 5101, 'rediculous': 4365, 'reilly': 4392, 'dear': 1291, 'soul': 5009, 'something': 4990, 'soda': 4966, 'turbulently': 5617, 'violently': 5850, 'container': 1088, 'exchange': 1848, 'freedom': 2135, 'decade': 1296, 'ahead': 128, 'vanquish': 5796, 'england': 1741, 'failure': 1914, 'similar': 4844, 'hopeless': 2558, 'regard': 4382, 'serve': 4743, 'north': 3645, 'pole': 4026, 'ti': 5458, 'jade': 2880, 'prone': 4184, 'spencer': 5042, 'secretary': 4692, 'eh': 1665, 'beholder': 484, 'matty': 3306, 'sing': 4855, 'feels': 1979, 'happiness': 2417, 'eternity': 1804, 'obligate': 3678, 'sensitive': 4725, 'furious': 2187, 'advocate': 96, 'lobby': 3162, 'politician': 4035, 'sympathic': 5308, 'amazingly': 172, 'chill': 862, 'ativan': 345, 'faith': 1918, 'dream': 1584, 'policeman': 4028, 'search': 4684, 'normal': 3642, 'pre': 4092, 'celebration': 795, 'softball': 4971, 'ge': 2219, 'seriously': 4740, 'indonesia': 2711, 'everchanging': 1822, 'sailormoon': 4608, 'gateway': 2213, 'menswear': 3348, 'venture': 5811, 'chaste': 835, 'urge': 5765, 'smack': 4911, 'olivia': 3721, 'cow': 1155, 'gabriella': 2194, 'btw': 675, 'legend': 3081, 'xd': 6076, 'hilarious': 2513, 'badass': 404, 'dork': 1559, 'consume': 1084, 'stoned': 5152, 'endorphin': 1728, 'meat': 3321, 'comprehend': 1025, 'nuclear': 3662, 'weapon': 5929, 'protest': 4199, 'riot': 4533, 'police': 4027, 'response': 4487, 'projector': 4177, 'smell': 4916, 'displease': 1500, 'musty': 3524, 'early': 1625, 'visitor': 5861, 'journal': 2926, 'ball': 419, 'sore': 5004, 'impending': 2659, 'ensue': 1754, 'repress': 4457, 'instigate': 2771, 'emphasize': 1706, 'highly': 2509, 'english': 1742, 'prom': 4179, 'straight': 5157, 'blood': 575, 'boil': 591, 'nerve': 3592, 'encode': 1720, 'utf': 5780, 'locale': 3164, 'en': 1715, 'isprivate': 2862, 'false': 1923, 'ismobile': 2857, 'mobileclass': 3429, 'isprivateblog': 2863, 'languagedirection': 3030, 'ltr': 3212, 'feedlink': 1975, 'application': 268, 'atom': 348, 'xml': 6080, 'ovation': 3783, 'karen': 2959, 'front': 2160, 'subcontinent': 5209, 'despite': 1387, 'paper': 3835, 'cynicism': 1250, 'fortunate': 2114, 'club': 936, 'dose': 1562, 'remorse': 4436, 'corinthian': 1120, 'relish': 4419, 'squelch': 5087, 'stack': 5095, 'here': 2493, 'offering': 3707, 'graphic': 2326, 'curtain': 1238, 'winston': 6012, 'churchill': 882, 'quote': 4270, 'repercussion': 4449, 'worthless': 6050, 'previously': 4129, 'ebay': 1641, 'fish': 2027, 'thin': 5435, 'dejected': 1330, 'main': 3239, 'qualified': 4245, 'observation': 3683, 'raphael': 4301, 'laiya': 3021, 'jennifer': 2902, 'scamper': 4645, 'introduce': 2816, 'sponsor': 5066, 'bake': 414, 'intentionally': 2793, 'sun': 5248, 'shine': 4784, 'grip': 2347, 'unkindness': 5711, 'selfishness': 4712, 'require': 4462, 'distorted': 1515, 'handmade': 2407, 'slack': 4883, 'toilet': 5498, 'abruptly': 15, 'la': 3011, 'sunday': 5249, 'brunch': 671, 'trumpeter': 5598, 'waldo': 5886, 'carter': 769, 'startle': 5113, 'flinch': 2057, 'mood': 3451, 'shoot': 4798, 'clock': 926, 'short': 4805, 'daylight': 1284, 'winter': 6013, 'brief': 647, 'tax': 5355, 'mail': 3236, 'jason': 2892, 'employer': 1709, 'going': 2291, 'on': 3725, 'coronation': 1124, 'georgia': 2244, 'serif': 4738, 'px': 4241, 'height': 2483, 'deadline': 1288, 'note': 3651, 'mass': 3293, 'talent': 5331, 'etsy': 1806, 'moz': 3488, 'uncertainty': 5655, 'concidence': 1035, 'vienna': 5834, 'specially': 5034, 'theofilou': 5427, 'nod': 3628, 'agreement': 125, 'kastrioti': 2961, 'board': 582, 'daydream': 1283, 'bet': 511, 'costume': 1133, 'todd': 5494, 'caleb': 721, 'frustration': 2167, 'news': 3609, 'tracy': 5531, 'chapter': 824, 'rushed': 4586, 'feedback': 1973, 'omit': 3724, 'questionable': 4256, 'adult': 86, 'nyps': 3674, 'webpage': 5937, 'compassion': 1010, 'metaphorically': 3367, 'small': 4912, 'frame': 2125, 'audience': 362, 'creativity': 1182, 'bullying': 687, 'defensive': 1317, 'hang': 2411, 'city': 889, 'parallel': 3838, 'sucker': 5227, 'grand': 2319, 'endless': 1727, 'battle': 455, 'apparent': 262, 'evil': 1829, 'discernment': 1467, 'conveniently': 1101, 'uninformed': 5699, 'specific': 5035, 'apartment': 249, 'claustrophobic': 901, 'rotten': 4562, 'apple': 267, 'complacent': 1015, 'smart': 4913, 'prompt': 4182, 'witness': 6024, 'sadistic': 4599, 'road': 4541, 'burmeister': 699, 'supposedly': 5264, 'hidden': 2504, 'msg': 3492, 'motivate': 3470, 'shafted': 4758, 'skilled': 4876, 'presentational': 4115, 'acting': 55, 'background': 397, 'wilder': 5995, 'desk': 1380, 'ass': 320, 'weight': 5947, 'un': 5645, 'emo': 1699, 'react': 4317, 'possibility': 4060, 'examination': 1837, 'upcoming': 5753, 'sight': 4835, 'sound': 5012, 'poll': 4036, 'market': 3279, 'soulmate': 5011, 'chemistry': 848, 'unlike': 5714, 'hopelessly': 2559, 'delighted': 1339, 'pathetic': 3874, 'thigh': 5434, 'rate': 4309, 'burden': 696, 'nursing': 3669, 'nurse': 3667, 'boo': 600, 'friggety': 2151, 'hoo': 2551, 'personnel': 3932, 'irritate': 2850, 'ipad': 2835, 'biannual': 517, 'mammogram': 3251, 'unusually': 5743, 'deliberate': 1334, 'shall': 4762, 'tactic': 5320, 'discuss': 1478, 'automatically': 372, 'trope': 5591, 'horror': 2566, 'fiction': 1997, 'fascinated': 1941, 'university': 5708, 'administrator': 76, 'readmit': 4324, 'collin': 968, 'finnerty': 2023, 'jan': 2885, 'swing': 5303, 'palm': 3827, 'perceive': 3908, 'floor': 2064, 'antsy': 239, 'petition': 3940, 'office': 3708, 'alight': 150, 'hotel': 2573, 'bellman': 494, 'appreciative': 273, 'patronize': 3880, 'layer': 3056, 'belief': 488, 'sincerity': 4854, 'impolite': 2663, 'katanya': 2962, 'pose': 4054, 'cutesy': 1244, 'vintage': 5847, 'idle': 2632, 'photo': 3953, 'eternal': 1802, 'socialize': 4961, 'centre': 801, 'becasue': 470, 'critical': 1196, 'dennis': 1352, 'covington': 1154, 'closing': 930, 'business': 705, 'herzog': 2497, 'medium': 3335, 'influence': 2724, 'brad': 626, 'looks': 3184, 'retail': 4495, 'roller': 4551, 'coaster': 946, 'craziness': 1174, 'throne': 5452, 'recite': 4347, 'mantra': 3265, 'shiftless': 4783, 'contribute': 1098, 'success': 5222, 'ignore': 2638, 'contribution': 1099, 'apply': 269, 'moody': 3452, 'slow': 4906, 'browse': 668, 'booth': 606, 'dart': 1273, 'overcome': 3786, 'refer': 4370, 'guitar': 2371, 'hero': 2494, 'lol': 3170, 'outta': 3780, 'paratrooper': 3843, 'useful': 5771, 'mission': 3415, 'footing': 2094, 'ton': 5504, 'program': 4172, 'prospect': 4193, 'suitcase': 5242, 'dvds': 1618, 'devote': 1410, 'spending': 5044, 'loathing': 3161, 'sink': 4861, 'unwarranted': 5745, 'unnecessary': 5719, 'depression': 1366, 'supremely': 5266, 'livejournal': 3153, 'feature': 1964, 'enable': 1716, 'thoroughly': 5441, 'trailer': 5540, 'delve': 1343, 'unworthy': 5749, 'fan': 1929, 'boring': 609, 'assignment': 329, 'hop': 2554, 'tried': 5579, 'trusty': 5601, 'busy': 706, 'mince': 3392, 'british': 653, 'xmas': 6079, 'goodie': 2298, 'kj': 2994, 'bookmark': 603, 'permalink': 3919, 'nov': 3656, 'middot': 3376, 'contented': 1091, 'build': 683, 'birth': 533, 'repeat': 4446, 'motorway': 3475, 'telephone': 5379, 'educate': 1654, 'laze': 3058, 'pajama': 3824, 'blunt': 579, 'relation': 4401, 'simultaneously': 4851, 'superior': 5255, 'inferior': 2721, 'reassure': 4335, 'product': 4163, 'exciting': 1853, 'kitchen': 2991, 'endeavor': 1725, 'occasional': 3691, 'musing': 3522, 'wrongly': 6068, 'sicken': 4827, 'lance': 3026, 'caption': 750, 'making': 3247, 'folk': 2083, 'devotee': 1412, 'eagerly': 1622, 'andri': 201, 'abroad': 14, 'ultimately': 5642, 'tbh': 5357, 'platitude': 4001, 'meaning': 3316, 'similarity': 4845, 'chase': 833, 'elevated': 1679, 'lexicon': 3103, 'gigantic': 2254, 'spider': 5047, 'enraged': 1752, 'soothe': 5002, 'nowwwwww': 3660, 'gradually': 2315, 'pacify': 3811, 'disappear': 1461, 'coordinate': 1114, 'downer': 1569, 'mess': 3360, 'elated': 1670, 'plunge': 4016, 'misery': 3408, 'tend': 5388, 'scrapbook': 4672, 'citizen': 888, 'india': 2707, 'recognise': 4350, 'barely': 439, 'term': 5398, 'likelihood': 3125, 'banana': 424, 'breakfast': 636, 'roast': 4543, 'tea': 5360, 'veer': 5804, 'stereotype': 5134, 'intrusion': 2818, 'glue': 2281, 'criticize': 1198, 'praise': 4085, 'ought': 3766, 'wee': 5941, 'backward': 401, 'bleed': 556, 'predict': 4100, 'angle': 208, 'gallow': 2199, 'tight': 5466, 'force': 2096, 'agnostic': 121, 'atheist': 342, 'judeo': 2937, 'fundamentalist': 2182, 'excitement': 1852, 'warrick': 5912, 'incredible': 2700, 'naivety': 3540, 'stupidity': 5201, 'tuck': 5610, 'strand': 5160, 'escape': 1791, 'tickle': 5462, 'cheek': 843, 'dam': 1257, 'lake': 3022, 'aubrey': 360, 'baptism': 433, 'knowledge': 3005, 'baptize': 434, 'sweetly': 5296, 'alarmed': 138, 'hospital': 2568, 'offensive': 3705, 'nearly': 3572, 'source': 5016, 'apathy': 251, 'friday': 2146, 'invade': 2822, 'recur': 4359, 'land': 3027, 'subconscious': 5207, 'easter': 1635, 'lifetime': 3116, 'fandom': 1931, 'vip': 5851, 'sticker': 5137, 'rustle': 4591, 'flagellate': 2032, 'albino': 142, 'priest': 4133, 'demon': 1346, 'suspect': 5281, 'caffeine': 717, 'withdrawal': 6023, 'system': 5314, 'eating': 1640, 'nvm': 3673, 'deliberation': 1335, 'spot': 5070, 'tour': 5524, 'intimidated': 2813, 'realistic': 4328, 'football': 2093, 'sport': 5069, 'invite': 2832, 'ministry': 3400, 'consciously': 1063, 'replace': 4450, 'contemplate': 1089, 'andintrupte': 198, 'trad': 5532, 'trash': 5560, 'bagan': 410, 'shiver': 4790, 'enrich': 1753, 'perfume': 3915, 'collection': 964, 'haha': 2389, 'apologize': 257, 'sorry': 5006, 'definately': 1320, 'solidarity': 4979, 'americans': 182, 'iraq': 2837, 'prisoner': 4143, 'stripping': 5179, 'bill': 525, 'flesh': 2050, 'flutter': 2074, 'scenario': 4653, 'prolonged': 4178, 'physical': 3957, 'sex': 4752, 'subsequently': 5214, 'luckily': 3213, 'standby': 5107, 'emoticon': 1700, 'awkward': 388, 'oppose': 3743, 'specifically': 5036, 'dictate': 1424, 'med': 3323, 'reduce': 4366, 'risk': 4538, 'describe': 1373, 'dominican': 1548, 'republic': 4460, 'illustrate': 2644, 'exhausted': 1865, 'painful': 3820, 'fanatic': 1930, 'clench': 912, 'impotent': 2670, 'command': 990, 'proper': 4188, 'amish': 183, 'punctual': 4224, 'tv': 5623, 'nellie': 3588, 'rang': 4296, 'leslie': 3093, 'activity': 60, 'foreboding': 2097, 'paige': 3818, 'charm': 831, 'intensely': 2788, 'conscious': 1062, 'envelope': 1774, 'seemingly': 4701, 'excruciate': 1855, 'manage': 3254, 'fiance': 1995, 'rare': 4305, 'exception': 1844, 'aesthetic': 97, 'possession': 4059, 'clothe': 932, 'wary': 5914, 'reading': 4322, 'survey': 5279, 'onel': 3729, 'creator': 1183, 'wall': 5890, 'eminent': 1697, 'patriotic': 3879, 'deed': 1307, 'urgency': 5766, 'curse': 1237, 'bang': 428, 'goodbye': 2297, 'fam': 1925, 'crying': 1218, 'needle': 3579, 'phase': 3947, 'graduation': 2317, 'basis': 447, 'euphoria': 1809, 'becuz': 471, 'cuz': 1246, 'badman': 406, 'ah': 126, 'fangirl': 1933, 'nipping': 3627, 'nose': 3646, 'thick': 5433, 'town': 5527, 'inch': 2686, 'separate': 4730, 'behave': 481, 'culturally': 1223, 'worthy': 6052, 'season': 4685, 'vaguely': 5787, 'reel': 4369, 'forth': 2112, 'shackle': 4756, 'norm': 3641, 'star': 5109, 'upbeat': 5752, 'poetry': 4021, 'carby': 755, 'low': 3207, 'glycemic': 2283, 'meal': 3314, 'dessert': 1389, 'tranquil': 5548, 'eloquent': 1681, 'array': 294, 'legard': 3080, 'greg': 2341, 'exboyfriend': 1840, 'shout': 4815, 'midnight': 3377, 'pin': 3973, 'fault': 1952, 'counsellor': 1141, 'vote': 5875, 'apologise': 256, 'following': 2086, 'examine': 1838, 'dimple': 1441, 'sag': 4605, 'yes': 6095, 'shame': 4764, 'science': 4664, 'indulgent': 2715, 'discontent': 1475, 'solemn': 4976, 'benefit': 505, 'render': 4439, 'thearchitecturality': 5423, 'utopian': 5781, 'garage': 2206, 'strive': 5180, 'subtly': 5218, 'haul': 2445, 'lava': 3049, 'planet': 3993, 'export': 1887, 'port': 4048, 'fairly': 1916, 'condone': 1041, 'method': 3368, 'achieve': 48, 'clumsy': 939, 'crowd': 1204, 'addition': 69, 'hihi': 2511, 'maintain': 3241, 'develop': 1405, 'albeit': 141, 'riku': 4528, 'plot': 4014, 'ish': 2854, 'unknown': 5712, 'autumn': 373, 'spouse': 5072, 'shire': 4786, 'reunite': 4502, 'field': 2000, 'london': 3174, 'unconsciously': 5660, 'subconsciously': 5208, 'area': 282, 'destruction': 1395, 'vent': 5810, 'ipod': 2836, 'suit': 5240, 'tune': 5615, 'rev': 4503, 'nuance': 3661, 'presentation': 4114, 'trigger': 5580, 'psychotic': 4211, 'lecture': 3073, 'deny': 1356, 'realise': 4327, 'leather': 3071, 'sandal': 4621, 'grayish': 2333, 'significant': 4837, 'hemorrhoid': 2490, 'major': 3242, 'cleaning': 906, 'instance': 2767, 'attract': 357, 'pulse': 4219, 'argument': 286, 'disappointed': 1463, 'tough': 5523, 'mudder': 3497, 'rip': 4534, 'reactive': 4319, 'wronged': 6067, 'xs': 6082, 'bias': 518, 'bible': 519, 'themed': 5426, 'anthology': 234, 'intelligence': 2784, 'service': 4744, 'youth': 6106, 'wisely': 6019, 'nd': 3569, 'vlog': 5866, 'balk': 418, 'soup': 5014, 'object': 3677, 'identity': 2627, 'mild': 3383, 'bandaid': 426, 'better': 513, 'crush': 1213, 'mate': 3301, 'voice': 5869, 'surprisingly': 5275, 'idiocy': 2628, 'bored': 608, 'fastforwarding': 1946, 'review': 4510, 'contradictory': 1097, 'conspiracy': 1074, 'theory': 5428, 'unsolved': 5734, 'crime': 1191, 'hugely': 2587, 'vital': 5862, 'full': 2177, 'potential': 4067, 'email': 1686, 'scott': 4670, 'dale': 1255, 'frusterate': 2164, 'naman': 3544, 'na': 3534, 'opening': 3736, 'passage': 3862, 'singular': 4860, 'fetched': 1991, 'impossible': 2668, 'pinnacle': 3978, 'materialistic': 3303, 'physics': 3959, 'midterm': 3379, 'vault': 5801, 'quilting': 4263, 'brotherhood': 664, 'qualify': 4246, 'offence': 3700, 'delhi': 1333, 'punjabi': 4227, 'dazzle': 1286, 'cert': 803, 'whilst': 5966, 'mum': 3506, 'investment': 2828, 'category': 780, 'bombing': 595, 'coca': 948, 'cola': 958, 'communicate': 999, 'terrifying': 5406, 'everyday': 1824, 'rough': 4565, 'correctly': 1127, 'idk': 2631, 'westerner': 5957, 'mediation': 3326, 'freely': 2136, 'inevitably': 2718, 'delay': 1332, 'building': 684, 'inspired': 2764, 'mindset': 3395, 'dizzy': 1534, 'throat': 5450, 'coloured': 973, 'lipstick': 3141, 'bold': 593, 'natasha': 3556, 'gan': 2203, 'suede': 5232, 'boot': 605, 'colour': 972, 'chadstone': 808, 'tonite': 5509, 'dig': 1433, 'comfort': 984, 'solitude': 4980, 'meditation': 3333, 'effort': 1658, 'lbs': 3061, 'january': 2889, 'wicked': 5987, 'clothing': 933, 'bittersweet': 542, 'imply': 2662, 'orderly': 3753, 'procession': 4158, 'remove': 4438, 'refuse': 4380, 'ring': 4530, 'conor': 1060, 'living': 3155, 'ubuntu': 5635, 'user': 5773, 'linux': 3139, 'platform': 4000, 'machine': 3229, 'printer': 4140, 'succumb': 5224, 'insecurity': 2752, 'thankfully': 5419, 'preface': 4102, 'disclaimer': 1469, 'peta': 3937, 'portland': 4051, 'doorway': 1556, 'flick': 2053, 'depth': 1367, 'sustained': 5287, 'lenghth': 3087, 'measure': 3320, 'pp': 4077, 'lightening': 3120, 'umbrella': 5644, 'total': 5517, 'yay': 6087, 'aside': 315, 'accord': 39, 'imperfect': 2660, 'rightly': 4526, 'grandmother': 2323, 'aunt': 364, 'flee': 2049, 'baltic': 422, 'cream': 1177, 'lemon': 3085, 'recently': 4342, 'purchase': 4231, 'warehouse': 5903, 'sale': 4612, 'draft': 1574, 'grasp': 2327, 'accomplishment': 38, 'temper': 5381, 'makeup': 3246, 'cherry': 852, 'caterpillar': 781, 'finger': 2019, 'crawl': 1173, 'trouble': 5593, 'asshole': 328, 'blender': 559, 'butter': 709, 'structure': 5186, 'function': 2180, 'convoluted': 1107, 'dave': 1278, 'atell': 339, 'chicken': 856, 'km': 2995, 'absurdity': 20, 'reproductive': 4459, 'dough': 1567, 'hollow': 2528, 'smith': 4920, 'gun': 2375, 'motion': 3469, 'similarly': 4846, 'fulfilled': 2175, 'jerry': 2907, 'sloan': 4900, 'utah': 5778, 'jazz': 2894, 'naega': 3535, 'deo': 1357, 'apaya': 253, 'hae': 2387, 'dasi': 1275, 'neol': 3589, 'chajeul': 812, 'su': 5206, 'itge': 2871, 'sigani': 4833, 'heureulsurok': 2500, 'gaseumi': 2210, 'apawa': 252, 'dan': 1261, 'hanbeon': 2399, 'manirado': 3262, 'forgive': 2104, 'sin': 4852, 'doedollil': 1541, 'suman': 5244, 'itdamyeon': 2868, 'gotong': 2305, 'ttawin': 5607, 'naegen': 3536, 'practicie': 4082, 'cult': 1222, 'falun': 1924, 'gong': 2295, 'sceptical': 4657, 'bemuse': 499, 'adress': 85, 'funny': 2186, 'female': 1984, 'destiny': 1392, 'sadden': 4598, 'blur': 580, 'son': 4993, 'pertain': 3934, 'dinn': 1445, 'drinkin': 1587, 'to': 5489, 'whiskey': 5973, 'beer': 476, 'les': 3092, 'paul': 3882, 'farm': 1939, 'kingdom': 2988, 'stock': 5149, 'enviously': 1776, 'twin': 5625, 'copper': 1117, 'flow': 2070, 'outward': 3781, 'bomb': 594, 'interview': 2809, 'tastic': 5349, 'heap': 2463, 'reveal': 4505, 'honesty': 2544, 'authenticity': 367, 'sequel': 4734, 'overrate': 3793, 'deem': 1308, 'broken': 658, 'handrail': 2408, 'basement': 443, 'unsettled': 5731, 'disconnect': 1473, 'atmosphere': 347, 'infuriate': 2728, 'lowly': 3209, 'dissatisfy': 1508, 'worldly': 6045, 'spy': 5081, 'victim': 5829, 'leare': 3068, 'tsa': 5605, 'croissant': 1199, 'sleepy': 4890, 'drug': 1595, 'induce': 2712, 'haze': 2451, 'incapable': 2684, 'cheer': 844, 'approach': 275, 'ailment': 130, 'rewrite': 4514, 'fma': 2077, 'op': 3734, 'assuage': 333, 'denmark': 1351, 'terrify': 5405, 'loud': 3196, 'blogging': 572, 'deodorant': 1358, 'snob': 4942, 'pleasure': 4011, 'roof': 4555, 'wild': 5994, 'native': 3559, 'mainly': 3240, 'desperately': 1384, 'region': 4385, 'visibly': 5858, 'outer': 3770, 'carniola': 765, 'evidence': 1828, 'suburban': 5219, 'labour': 3015, 'standing': 5108, 'commit': 994, 'jonese': 2922, 'afield': 105, 'woodland': 6034, 'spread': 5074, 'lighten': 3119, 'inability': 2681, 'ller': 3158, 'expensive': 1877, 'shopping': 4803, 'intentionality': 2792, 'officer': 3709, 'krupke': 3008, 'direct': 1450, 'lee': 3074, 'casually': 776, 'shouldn': 4814, 'alaska': 139, 'snowy': 4951, 'pine': 3975, 'destine': 1391, 'southern': 5018, 'california': 725, 'subject': 5210, 'recless': 4349, 'mamma': 3250, 'headlock': 2456, 'whooooo': 5981, 'crack': 1162, 'whooooooooo': 5982, 'craaaaaaack': 1160, 'resent': 4468, 'needlessly': 3580, 'unreasonably': 5726, 'idiosyncrasy': 2629, 'dirt': 1454, 'darkness': 1270, 'sitting': 4870, 'address': 70, 'congratulation': 1056, 'exam': 1836, 'faux': 1953, 'hawk': 2450, 'dykey': 1620, 'remarkable': 4427, 'th': 5415, 'grader': 2314, 'peaceful': 3893, 'site': 4869, 'peril': 3916, 'library': 3109, 'derange': 1368, 'villian': 5841, 'messy': 3362, 'seek': 4699, 'optimism': 3747, 'refusal': 4379, 'fate': 1949, 'wallow': 5892, 'pity': 3987, 'fair': 1915, 'xia': 6078, 'frighten': 2153, 'interminable': 2800, 'bout': 620, 'gown': 2308, 'lapel': 3032, 'charming': 832, 'spectacle': 5037, 'combo': 980, 'intent': 2789, 'chatting': 838, 'mg': 3372, 'seroquel': 4742, 'smoke': 4921, 'academic': 24, 'ie': 2635, 'spock': 5063, 'reciprocate': 4346, 'cramp': 1164, 'transportation': 5558, 'angsty': 211, 'clown': 935, 'kiss': 2989, 'hehe': 2482, 'abandon': 3, 'baffle': 407, 'assaulted': 323, 'unsafe': 5729, 'grace': 2310, 'verge': 5815, 'tenderly': 5391, 'solely': 4975, 'network': 3600, 'interaction': 2795, 'headache': 2453, 'camp': 735, 'hack': 2384, 'cough': 1136, 'splutter': 5062, 'kim': 2983, 'kardashion': 2958, 'tutorial': 5622, 'actively': 58, 'borne': 610, 'psychically': 4209, 'galvanise': 2200, 'prepare': 4110, 'wrestle': 6059, 'shoeless': 4797, 'cox': 1156, 'bf': 515, 'wholly': 5980, 'exit': 1873, 'freakishly': 2133, 'times': 5473, 'fiddly': 1999, 'necessity': 3575, 'valid': 5791, 'complaint': 1017, 'willing': 5999, 'subjective': 5211, 'moss': 3465, 'encase': 1719, 'shell': 4777, 'muffle': 3498, 'sharp': 4770, 'favorable': 1955, 'starter': 5112, 'redeem': 4363, 'genre': 2238, 'appeal': 264, 'curl': 1233, 'transition': 5553, 'natural': 3560, 'lowlight': 3208, 'section': 4694, 'injustice': 2739, 'maggie': 3232, 'poem': 4019, 'vol': 5870, 'consistently': 1072, 'disengage': 1483, 'disintereste': 1490, 'zest': 6118, 'conductor': 1044, 'oiut': 3716, 'minibus': 3396, 'fare': 1938, 'luggage': 3216, 'giggle': 2255, 'nervously': 3594, 'drown': 1594, 'bride': 646, 'reeeeeeeeally': 4368, 'fridge': 2147, 'radio': 4281, 'ad': 65, 'echo': 1644, 'pirate': 3983, 'landlubber': 3028, 'liberated': 3107, 'unease': 5676, 'rank': 4298, 'frugal': 2162, 'antic': 236, 'improv': 2678, 'entry': 1771, 'pedestrian': 3897, 'crossing': 1203, 'lord': 3188, 'portion': 4050, 'seven': 4749, 'unmotivated': 5717, 'foreign': 2101, 'commonplace': 998, 'insulted': 2777, 'scent': 4656, 'melee': 3342, 'dps': 1572, 'rant': 4299, 'raid': 4284, 'profile': 4169, 'sample': 4616, 'enthusiastic': 1763, 'compel': 1011, 'meek': 3336, 'asian': 314, 'ssr': 5091, 'aconfident': 51, 'overcomet': 3787, 'favourite': 1958, 'cell': 796, 'bio': 529, 'buffy': 682, 'multiple': 3503, 'pan': 3828, 'hurtful': 2606, 'sniping': 4939, 'comparatively': 1006, 'preservation': 4116, 'justification': 2950, 'reject': 4395, 'patio': 3878, 'flush': 2072, 'sumthg': 5247, 'tat': 5351, 'thk': 5440, 'medication': 3329, 'barrier': 441, 'medicine': 3330, 'vomit': 5872, 'whip': 5971, 'crunchy': 1211, 'misplaced': 3412, 'loathe': 3160, 'gamer': 2202, 'molyneux': 3437, 'garden': 2208, 'shortlist': 4807, 'flexible': 2051, 'toddler': 5495, 'mistreat': 3418, 'ibs': 2620, 'bowel': 621, 'language': 3029, 'remotely': 4437, 'related': 4400, 'homosexuality': 2541, 'fresh': 2140, 'intuitive': 2821, 'capture': 751, 'britain': 652, 'immediate': 2653, 'nonetheless': 3636, 'gap': 2205, 'earn': 1626, 'limitation': 3132, 'acknowledge': 50, 'definition': 1325, 'til': 5468, 'absence': 16, 'lj': 3156, 'warner': 5909, 'edit': 1652, 'director': 1453, 'format': 2108, 'blu': 577, 'ray': 4313, 'tolerate': 5499, 'tooth': 5511, 'forever': 2102, 'unlucky': 5715, 'genetic': 2236, 'orthodontist': 3763, 'pediatric': 3898, 'legacy': 3078, 'programming': 4174, 'earthquake': 1630, 'foundation': 2118, 'provocation': 4204, 'socially': 4962, 'traditional': 5535, 'omangy': 3723, 'waiting': 5882, 'islam': 2855, 'medically': 3328, 'spit': 5055, 'disrespect': 1503, 'femme': 1987, 'fatale': 1948, 'obvious': 3688, 'britney': 654, 'burn': 700, 'watcher': 5921, 'giver': 2263, 'taker': 5328, 'trial': 5576, 'verse': 5817, 'transcend': 5549, 'secure': 4696, 'zack': 6111, 'symptom': 5311, 'prompting': 4183, 'okay': 3718, 'surprised': 5274, 'environmental': 1778, 'consequence': 1064, 'logging': 3168, 'resort': 4481, 'shirt': 4787, 'nickey': 3617, 'sloppy': 4903, 'carry': 767, 'audre': 363, 'lorde': 3189, 'wedding': 5939, 'afterward': 111, 'indigo': 2709, 'beirut': 487, 'nagging': 3537, 'quilt': 4262, 'upload': 5757, 'instructable': 2774, 'disconnected': 1474, 'charitable': 828, 'donation': 1551, 'uk': 5640, 'sodding': 4968, 'canteen': 745, 'soccer': 4957, 'digest': 1434, 'unnaturally': 5718, 'merely': 3355, 'dump': 1608, 'melt': 3344, 'shoplift': 4802, 'package': 3813, 'gummy': 2374, 'rex': 4515, 'dingler': 1442, 'bench': 501, 'favs': 1959, 'depress': 1363, 'increase': 2698, 'seep': 4702, 'plane': 3992, 'shaving': 4774, 'precision': 4097, 'marvellous': 3287, 'hurry': 2604, 'illness': 2642, 'roll': 4550, 'bodega': 587, 'laundry': 3048, 'oddly': 3699, 'devoid': 1409, 'coin': 956, 'changer': 821, 'shower': 4818, 'bsc': 674, 'ally': 160, 'prank': 4088, 'debate': 1293, 'usa': 5769, 'primary': 4134, 'wod': 6027, 'scale': 4644, 'celebrate': 794, 'anniversary': 220, 'manuscript': 3268, 'fellowship': 1982, 'requirement': 4463, 'sacred': 4595, 'communion': 1001, 'understanding': 5668, 'sublime': 5212, 'insist': 2759, 'jolly': 2919, 'click': 916, 'louder': 3197, 'excellent': 1843, 'tail': 5323, 'vj': 5865, 'exact': 1833, 'opposite': 3744, 'rile': 4529, 'unsheathe': 5733, 'sword': 5305, 'bury': 703, 'hatchet': 2439, 'punk': 4228, 'maniacal': 3257, 'personalize': 3930, 'workplace': 6043, 'momentarily': 3440, 'immensely': 2657, 'repay': 4445, 'goodness': 2299, 'polish': 4030, 'jack': 2876, 'speedy': 5040, 'sugar': 5236, 'crave': 1171, 'repentant': 4448, 'opposition': 3745, 'civil': 890, 'strait': 5159, 'fed': 1965, 'external': 1895, 'beijing': 485, 'item': 2869, 'traction': 5530, 'denise': 1350, 'healthy': 2462, 'imagination': 2648, 'hot': 2572, 'radiator': 4279, 'elevate': 1678, 'thyroid': 5457, 'movement': 3485, 'metabolism': 3363, 'hyperthyroidism': 2613, 'global': 2276, 'warming': 5905, 'practice': 4081, 'correctness': 1128, 'nudist': 3663, 'convention': 1102, 'christine': 877, 'risen': 4537, 'desolate': 1381, 'soundscape': 5013, 'utterly': 5783, 'headlamp': 2454, 'tent': 5396, 'pea': 3891, 'catapult': 778, 'awhile': 387, 'popeye': 4044, 'cartoon': 770, 'rupee': 4584, 'sauna': 4638, 'ice': 2621, 'bath': 450, 'steam': 5127, 'goldilock': 2293, 'supportive': 5262, 'campaign': 736, 'senator': 4717, 'leer': 3075, 'slough': 4905, 'carapace': 753, 'crud': 1207, 'envelop': 1773, 'radiant': 4277, 'ordinary': 3755, 'flash': 2037, 'cousin': 1152, 'west': 5956, 'meath': 3322, 'ping': 3976, 'naughty': 3562, 'rudolph': 4575, 'valentino': 5790, 'perform': 3913, 'unspeakable': 5735, 'ra': 4271, 'picnic': 3965, 'james': 2884, 'november': 3658, 'inevitable': 2717, 'hummpffff': 2596, 'dependent': 1360, 'js': 2933, 'jilt': 2912, 'vow': 5876, 'passport': 3867, 'prejudice': 4107, 'repeatedly': 4447, 'topic': 5513, 'ashamed': 312, 'exhilarated': 1868, 'community': 1002, 'accident': 32, 'psyche': 4207, 'penn': 3904, 'sift': 4832, 'mound': 3477, 'atari': 338, 'cluster': 940, 'sneakily': 4935, 'mas': 3290, 'prance': 4087, 'eartha': 1629, 'kitt': 2993, 'santa': 4625, 'blare': 554, 'cautiously': 788, 'anime': 214, 'edge': 1650, 'slumber': 4908, 'mindful': 3394, 'experiment': 1879, 'adequately': 71, 'appreciation': 272, 'hike': 2512, 'mentality': 3350, 'enmayi': 1749, 'accurate': 44, 'lover': 3205, 'indication': 2708, 'regret': 4387, 'mm': 3426, 'zone': 6122, 'composition': 1023, 'root': 4559, 'condemn': 1039, 'conference': 1045, 'disbelief': 1466, 'ing': 2729, 'niggling': 3622, 'extrememly': 1900, 'petrona': 3943, 'profit': 4170, 'pg': 3945, 'poison': 4023, 'official': 3710, 'contest': 1093, 'means': 3318, 'errrr': 1789, 'dun': 1610, 'noe': 3629, 'lame': 3025, 'bruce': 670, 'yiling': 6098, 'considerate': 1068, 'admin': 74, 'impose': 2667, 'daddy': 1253, 'uncle': 5656, 'abnormally': 12, 'stake': 5103, 'feeder': 1974, 'johann': 2916, 'accompany': 35, 'khartoum': 2975, 'descara': 1372, 'nutrition': 3671, 'health': 2460, 'uh': 5639, 'ewan': 1831, 'obstacle': 3687, 'leaden': 3063, 'another': 230, 'psyched': 4208, 'hopefully': 2557, 'relax': 4405, 'extension': 1892, 'blatant': 555, 'defiance': 1319, 'prominent': 4180, 'characteristic': 826, 'scatter': 4652, 'backwards': 402, 'ambitious': 176, 'alright': 165, 'spook': 5068, 'band': 425, 'crossfit': 1201, 'coach': 945, 'plank': 3994, 'chief': 857, 'ccw': 792, 'yank': 6085, 'monthe': 3450, 'terpene': 5400, 'flavour': 2045, 'hellip': 2487, 'shooter': 4799, 'dorama': 1558, 'articulate': 301, 'prius': 4144, 'shiny': 4785, 'al': 136, 'gore': 2302, 'patagonia': 3871, 'insidious': 2756, 'driving': 1590, 'virtuous': 5855, 'friggin': 2152, 'brand': 630, 'rear': 4332, 'evangelical': 1815, 'alteration': 166, 'china': 863, 'admission': 79, 'puppy': 4230, 'ratty': 4311, 'dickensian': 1422, 'duckie': 1601, 'target': 5344, 'commie': 993, 'feds': 1969, 'vein': 5808, 'scheduler': 4660, 'massive': 3295, 'repairman': 4444, 'tasty': 5350, 'abound': 13, 'cruz': 1215, 'unseen': 5730, 'ambient': 174, 'swear': 5289, 'renowne': 4442, 'atheism': 341, 'skirt': 4881, 'clinique': 922, 'disadvantage': 1458, 'entertainment': 1760, 'awkwardness': 390, 'terminando': 5399, 'com': 975, 'um': 5643, 'ano': 228, 'depois': 1362, 'recreate': 4358, 'fog': 2080, 'center': 799, 'teasing': 5367, 'scrutiny': 4682, 'fantasy': 1936, 'novel': 3657, 'investigate': 2826, 'mythology': 3533, 'protective': 4197, 'module': 3434, 'fellow': 1981, 'interact': 2794, 'definite': 1323, 'development': 1406, 'dozen': 1571, 'ranbir': 4293, 'ayan': 392, 'mukerji': 3501, 'filmfare': 2009, 'smarter': 4914, 'rounded': 4567, 'tinge': 5477, 'sox': 5019, 'tampa': 5338, 'devil': 1407, 'unhealthy': 5695, 'creep': 1188, 'childish': 860, 'fle': 2048, 'flower': 2071, 'unfurl': 5691, 'sunshine': 5251, 'scary': 4651, 'pour': 4071, 'cup': 1226, 'significantly': 4838, 'dollar': 1546, 'desperate': 1383, 'careful': 761, 'confrontational': 1052, 'thrive': 5449, 'executive': 1860, 'corporate': 1125, 'urgent': 5767, 'file': 2006, 'wise': 6018, 'ivspirit': 2874, 'translatethis': 5555, 'formulate': 2110, 'completeness': 1020, 'sober': 4956, 'irreplaceable': 2846, 'idrc': 2633, 'serendipity': 4735, 'collide': 967, 'page': 3816, 'rainbow': 4286, 'burst': 702, 'migraine': 3381, 'overreact': 3794, 'joshua': 2924, 'handbag': 2401, 'sachaye': 4594, 'trembly': 5571, 'succeed': 5221, 'genius': 2237, 'angie': 207, 'massively': 3296, 'amount': 187, 'processing': 4157, 'associate': 332, 'scrape': 4673, 'nook': 3638, 'cranny': 1167, 'juicy': 2941, 'morsel': 3463, 'washington': 5916, 'fearless': 1962, 'debt': 1295, 'thatrupert': 5422, 'polite': 4031, 'track': 5529, 'fitness': 2029, 'unfocused': 5687, 'steady': 5125, 'boss': 611, 'elliptical': 1680, 'snack': 4928, 'inspiring': 2765, 'internship': 2805, 'atm': 346, 'brendon': 644, 'ros': 4560, 'anna': 217, 'wealth': 5928, 'offline': 3711, 'monroe': 3447, 'launch': 3046, 'incorporate': 2696, 'core': 1119, 'mundane': 3510, 'paperwork': 3836, 'bureaucrat': 698, 'revel': 4506, 'andrea': 200, 'belly': 495, 'excuse': 1857, 'journalist': 2928, 'dedicate': 1306, 'eurovision': 1812, 'bleh': 558, 'digress': 1437, 'blame': 551, 'enthusiasm': 1761, 'browser': 669, 'rudely': 4574, 'fool': 2090, 'registration': 4386, 'uneventful': 5678, 'stupidly': 5202, 'eagle': 1623, 'dangerously': 1267, 'warmly': 5906, 'courtesy': 1150, 'journalism': 2927, 'sible': 4825, 'bro': 655, 'fruit': 2163, 'gross': 2350, 'wind': 6006, 'neck': 3576, 'crappy': 1169, 'sarah': 4627, 'jens': 2903, 'retirement': 4497, 'shortly': 4808, 'cancer': 740, 'unfairness': 5682, 'penny': 3905, 'healing': 2459, 'wounding': 6056, 'underway': 5670, 'tempt': 5386, 'emanating': 1687, 'longingly': 3180, 'probe': 4154, 'hardness': 2427, 'mothering': 3468, 'splendid': 5059, 'sniffle': 4937, 'itchy': 2867, 'muay': 3493, 'thai': 5416, 'firefly': 2025, 'serenity': 4736, 'mixed': 3424, 'mosquito': 3464, 'fantabulous': 1934, 'resolved': 4479, 'weightless': 5949, 'comfy': 987, 'hrs': 2580, 'regain': 4381, 'blurt': 581, 'tone': 5505, 'immature': 2652, 'gloss': 2279, 'tread': 5564, 'territory': 5407, 'surgery': 5271, 'emergency': 1695, 'clearly': 910, 'apology': 258, 'boob': 601, 'linda': 3134, 'nightmare': 3625, 'lessen': 3094, 'delicate': 1336, 'leopard': 3091, 'follower': 2085, 'rating': 4310, 'iris': 2839, 'homeschooling': 2537, 'dubai': 1600, 'mun': 3509, 'record': 4354, 'temple': 5384, 'occassionally': 3693, 'earring': 1627, 'incrementally': 2702, 'rigid': 4527, 'paranoia': 3840, 'innanimate': 2742, 'carpet': 766, 'tall': 5337, 'practise': 4083, 'walking': 5889, 'slope': 4902, 'refrigerator': 4378, 'interrupt': 2806, 'trivial': 5589, 'wednesday': 5940, 'receiving': 4340, 'happening': 2415, 'subtle': 5217, 'pagetitle': 3817, 'khatsii': 2976, 'double': 1564, 'victory': 5831, 'struff': 5187, 'fill': 2007, 'fedtastic': 1970, 'tennis': 5393, 'si': 4824, 'stable': 5094, 'hallucination': 2397, 'snow': 4948, 'accumulate': 42, 'conifer': 1057, 'shovel': 4816, 'sleeve': 4891, 'vigorous': 5838, 'chip': 867, 'jealousy': 2898, 'huhuhu': 2588, 'feeble': 1971, 'listening': 3146, 'distortion': 1516, 'unusual': 5742, 'album': 143, 'knight': 2997, 'denim': 1349, 'alot': 163, 'xanax': 6073, 'rebuild': 4337, 'stasia': 5116, 'pool': 4040, 'devastate': 1403, 'lambrusco': 3024, 'quality': 4247, 'bubbly': 676, 'constitution': 1078, 'constitutional': 1079, 'bureaucracy': 697, 'olympic': 3722, 'ahaha': 127, 'retarded': 4496, 'ignorance': 2636, 'engage': 1738, 'broaden': 656, 'tenure': 5397, 'strategy': 5165, 'match': 3300, 'juice': 2940, 'smoothie': 4924, 'raw': 4312, 'vegan': 5805, 'menu': 3353, 'routine': 4569, 'hackle': 2385, 'raise': 4288, 'prevent': 4126, 'manager': 3255, 'formal': 2107, 'evaluation': 1814, 'randomly': 4295, 'foodie': 2089, 'lick': 3110, 'lollypop': 3173, 'mommyhood': 3442, 'breastfeed': 638, 'smoker': 4922, 'cigarette': 884, 'equivalent': 1786, 'couch': 1135, 'cushion': 1239, 'snap': 4931, 'represent': 4456, 'universal': 5706, 'metaphor': 3366, 'ffs': 1994, 'twitter': 5630, 'bounce': 617, 'reference': 4371, 'period': 3917, 'dawn': 1280, 'vividly': 5864, 'feverish': 1992, 'tribute': 5577, 'oiler': 3715, 'count': 1142, 'afternoon': 110, 'lurker': 3226, 'overhear': 3791, 'ringtone': 4532, 'side': 4829, 'knit': 2998, 'relief': 4414, 'noticable': 3652, 'nay': 3568, 'scream': 4676, 'ppl': 4078, 'copy': 1118, 'handsome': 2409, 'traumatic': 5562, 'surface': 5269, 'nauseas': 3564, 'gently': 2240, 'walia': 5887, 'tarun': 5346, 'bani': 429, 'gt': 2362, 'hasting': 2437, 'cop': 1115, 'disorder': 1494, 'globe': 2277, 'adventure': 91, 'homeland': 2534, 'kai': 2955, 'nomming': 3633, 'orange': 3751, 'green': 2339, 'norah': 3640, 'jones': 2921, 'hardship': 2428, 'sum': 5243, 'closed': 928, 'grudge': 2359, 'resupplie': 4494, 'vitamin': 5863, 'disgruntled': 1484, 'insanely': 2749, 'kiat': 2977, 'obsessive': 3686, 'anal': 193, 'drag': 1575, 'pregnant': 4106, 'jacket': 2877, 'mesh': 3359, 'publisher': 4215, 'snobbish': 4943, 'jeanette': 2899, 'winterson': 6015, 'scope': 4668, 'whitleys': 5977, 'motivation': 3472, 'frantically': 2128, 'assured': 337, 'wimp': 6003, 'inquire': 2747, 'incheswhyinche': 2687, 'relocate': 4421, 'drove': 1593, 'graceful': 2311, 'rob': 4544, 'nurture': 3670, 'heal': 2458, 'sustainability': 5286, 'perception': 3909, 'misscariage': 3414, 'dismiss': 1493, 'blindly': 564, 'nicely': 3615, 'pursuit': 4235, 'louis': 3200, 'xvi': 6083, 'marie': 3276, 'antoinette': 238, 'russia': 4589, 'alive': 154, 'mile': 3385, 'foist': 2081, 'inconvenience': 2695, 'aa': 0, 'insight': 2757, 'scratchy': 4675, 'marge': 3272, 'simpson': 4850, 'whisper': 5974, 'july': 2944, 'st': 5092, 'homeless': 2535, 'ridicule': 4522, 'normally': 3644, 'interrupted': 2807, 'benadryl': 500, 'tube': 5609, 'cavalier': 789, 'trim': 5582, 'spoil': 5064, 'breed': 642, 'coat': 947, 'accustomed': 45, 'piano': 3961, 'cheap': 839, 'marketer': 3280, 'consumer': 1085, 'spiritually': 5054, 'impostor': 2669, 'reinforcement': 4393, 'cognitive': 953, 'reframe': 4376, 'diminish': 1440, 'dissolve': 1511, 'defer': 1318, 'essence': 1797, 'exclusively': 1854, 'devoted': 1411, 'youthful': 6107, 'employment': 1710, 'spurn': 5080, 'vine': 5843, 'potentially': 4068, 'harden': 2425, 'planning': 3995, 'tightly': 5467, 'available': 374, 'tool': 5510, 'callous': 729, 'unfaithful': 5683, 'unattainable': 5649, 'sams': 4617, 'hiding': 2506, 'impractical': 2672, 'serina': 4739, 'cleaner': 905, 'plod': 4013, 'isolate': 2859, 'suspense': 5282, 'confusion': 1055, 'ending': 1726, 'loner': 3177, 'sunny': 5250, 'protection': 4196, 'batting': 454, 'recovery': 4357, 'skinny': 4879, 'disposable': 1501, 'income': 2691, 'mall': 3249, 'stage': 5098, 'nervousness': 3595, 'sheer': 4776, 'terror': 5408, 'excite': 1849, 'spontaneous': 5067, 'urgh': 5768, 'unreliable': 5727, 'combat': 976, 'trainer': 5543, 'treassure': 5567, 'exhilirate': 1869, 'weatherman': 5933, 'forecast': 2098, 'acheivment': 47, 'unexpected': 5679, 'remarkably': 4428, 'foolish': 2091, 'outing': 3774, 'harmful': 2430, 'cozy': 1158, 'neighborhood': 3586, 'mexican': 3371, 'shooting': 4800, 'relentlessly': 4411, 'collect': 963, 'generosity': 2234, 'misunderstood': 3421, 'enrage': 1751, 'prior': 4141, 'incident': 2688, 'scandalize': 4646, 'nfl': 3613, 'oatmeal': 3675, 'gather': 2214, 'handed': 2403, 'appointment': 270, 'bum': 688, 'vbac': 5802, 'snatch': 4934, 'darling': 1271, 'lupron': 3223, 'bud': 679, 'request': 4461, 'jerome': 2906, 'ocd': 3695, 'starve': 5115, 'diversity': 1527, 'bastard': 449, 'hat': 2438, 'emily': 1696, 'crisp': 1195, 'panicky': 3831, 'fuss': 2190, 'learning': 3070, 'overweight': 3801, 'american': 181, 'sentinel': 4728, 'hanford': 2410, 'councilman': 1139, 'chins': 866, 'propose': 4192, 'media': 3324, 'policy': 4029, 'committee': 996, 'alarm': 137, 'despair': 1382, 'prove': 4202, 'nao': 3548, 'hyperemesis': 2612, 'slobby': 4901, 'yarn': 6086, 'habitual': 2383, 'wh': 5959, 'initiation': 2736, 'porn': 4047, 'industry': 2716, 'buck': 677, 'grievance': 2343, 'squirt': 5088, 'typically': 5633, 'respond': 4486, 'defination': 1321, 'romance': 4552, 'protectiveness': 4198, 'revalidation': 4504, 'portfolio': 4049, 'importance': 2664, 'sparkle': 5028, 'else': 1682, 'animal': 213, 'sexual': 4753, 'sweden': 5292, 'property': 4190, 'unsuspecting': 5740, 'enemy': 1732, 'ridiculously': 4524, 'temperature': 5382, 'heartburn': 2468, 'collar': 961, 'tonguey': 5507, 'slide': 4893, 'clit': 925, 'eternally': 1803, 'history': 2517, 'technically': 5369, 'customary': 1240, 'siesta': 4831, 'warn': 5908, 'multiplayer': 3502, 'agenda': 113, 'lung': 3222, 'russell': 4588, 'crowe': 1205, 'robin': 4545, 'hood': 2552, 'merida': 3356, 'mailbox': 3237, 'mailman': 3238, 'clerk': 913, 'willingness': 6000, 'emerge': 1694, 'giggly': 2256, 'morose': 3461, 'sombre': 4984, 'distance': 1512, 'spat': 5030, 'scheme': 4661, 'election': 1674, 'precipice': 4094, 'ruffle': 4576, 'inflate': 2723, 'exaggerate': 1835, 'passionately': 3866, 'hyperventilate': 2614, 'queezy': 4253, 'stun': 5198, 'honour': 2549, 'client': 917, 'distributor': 1523, 'floral': 2066, 'stationary': 5121, 'san': 4618, 'da': 1251, 'bul': 685, 'taewuhbeoryeo': 5322, 'niga': 3619, 'ulbujitneun': 5641, 'nal': 3543, 'neoneun': 3591, 'wiheomhae': 5992, 'gal': 2197, 'ttaekkaji': 5606, 'gatsseo': 2216, 'woooo': 6035, 'ethiopia': 1805, 'suffering': 5234, 'implement': 2661, 'arcade': 281, 'eighteen': 1669, 'up': 5751, 'down': 1568, 'hasn': 2436, 'edgy': 1651, 'ingrain': 2730, 'italian': 2865, 'fiber': 1996, 'tragedy': 5537, 'xango': 6074, 'near': 3571, 'unwell': 5747, 'chest': 853, 'flatten': 2040, 'renew': 4440, 'endurance': 1729, 'role': 4548, 'grandma': 2322, 'primetime': 4137, 'murderer': 3513, 'disagree': 1459, 'pet': 3936, 'innate': 2743, 'chinese': 864, 'dire': 1449, 'generation': 2230, 'hadn': 2386, 'aggression': 116, 'privilege': 4149, 'anyone': 245, 'countless': 1144, 'irrational': 2843, 'adulthood': 87, 'concieve': 1036, 'sir': 4864, 'mba': 3309, 'gate': 2212, 'plantar': 3997, 'fascitis': 1942, 'assessment': 326, 'court': 1149, 'rapport': 4303, 'rolex': 4549, 'joyous': 2932, 'stunningly': 5199, 'devastating': 1404, 'release': 4408, 'ccs': 791, 'anipike': 215, 'website': 5938, 'fanfiction': 1932, 'sinus': 4862, 'flattered': 2042, 'shocked': 4793, 'mis': 3405, 'stepping': 5133, 'dishonor': 1489, 'participant': 3854, 'quest': 4254, 'unfortunately': 5689, 'aftermath': 109, 'dunno': 1613, 'startled': 5114, 'rabbit': 4272, 'detest': 1401, 'awareness': 381, 'readjust': 4323, 'strangely': 5162, 'statistic': 5122, 'mormon': 3459, 'anti': 235, 'depressant': 1364, 'lap': 3031, 'tender': 5390, 'teeter': 5378, 'totering': 5520, 'precisely': 4096, 'persecute': 3923, 'rammstein': 4291, 'rape': 4300, 'disdain': 1480, 'arena': 284, 'nesting': 3597, 'homemaking': 2536, 'reprieve': 4458, 'halloween': 2396, 'mishap': 3410, 'sooooooooooo': 5001, 'bunk': 693, 'flaunt': 2043, 'aac': 1, 'miserable': 3407, 'intercourse': 2796, 'soooo': 5000, 'comic': 988, 'hearted': 2469, 'snooty': 4945, 'gauche': 2217, 'appalled': 261, 'financially': 2015, 'cringe': 1193, 'chain': 810, 'numerous': 3666, 'intellectually': 2783, 'hyena': 2609, 'innovation': 2745, 'adjustment': 73, 'economic': 1645, 'labor': 3014, 'conflicted': 1050, 'paparazzi': 3834, 'zq': 6124, 'jcho': 2895, 'cpine': 1159, 'skincare': 4878, 'sectret': 4695, 'snail': 4929, 'egf': 1662, 'repair': 4443, 'gel': 2222, 'jar': 2891, 'sparkleapple': 5029, 'cave': 790, 'tibris': 5459, 'gold': 2292, 'minimal': 3397, 'jewellery': 2909, 'revenue': 4508, 'shelter': 4778, 'ripe': 4535, 'goddamn': 2289, 'fundamentally': 2183, 'selection': 4708, 'democratic': 1345, 'replica': 4452, 'distrustful': 1524, 'curb': 1229, 'resentment': 4470, 'flame': 2035, 'singe': 4857, 'frail': 2123, 'foul': 2117, 'butterfly': 710, 'mediate': 3325, 'ex': 1832, 'manipulate': 3260, 'lily': 3129, 'dink': 1444, 'prettymuch': 4125, 'acronym': 53, 'kite': 2992, 'ambulatory': 178, 'strap': 5164, 'sturdy': 5203, 'trick': 5578, 'sensibly': 4724, 'clue': 937, 'luminary': 3219, 'swinelord': 5302, 'deluxe': 1342, 'differently': 1431, 'truthful': 5603, 'hgtv': 2502, 'shadow': 4757, 'nutritional': 3672, 'plead': 4007, 'uncoil': 5658, 'swim': 5300, 'tie': 5463, 'ecstasy': 1647, 'triumph': 5587, 'owe': 3806, 'fade': 1912, 'hairstyle': 2392, 'droop': 1591, 'frizz': 2157, 'accomplished': 37, 'soley': 4977, 'rooster': 4558, 'underwhelmed': 5672, 'beacuse': 461, 'dirty': 1455, 'decorate': 1304, 'smothered': 4926, 'creature': 1184, 'nesty': 3598, 'teeny': 5377, 'weeny': 5945, 'famous': 1928, 'cathartic': 783, 'secretly': 4693, 'mychem': 3526, 'cre': 1176, 'stubbornly': 5190, 'september': 4733, 'heinous': 2484, 'unibrow': 5697, 'spare': 5026, 'eyelid': 1903, 'def': 1312, 'cure': 1230, 'overdo': 3789, 'working': 6040, 'evolve': 1830, 'abide': 8, 'politic': 4033, 'surmise': 5272, 'sitcom': 4868, 'inclined': 2689, 'inspect': 2761, 'wheat': 5961, 'tech': 5368, 'hyper': 2611, 'asset': 327, 'bogge': 590, 'videotape': 5833, 'brink': 651, 'still': 5139, 'impoverished': 2671, 'surely': 5268, 'enlist': 1748, 'cottage': 1134, 'rustling': 4592, 'attire': 355, 'wimbledon': 6002, 'width': 5989, 'pcm': 3889, 'rash': 4307, 'riva': 4539, 'harvey': 2434, 'weinstein': 5950, 'oscar': 3764, 'compartmentalise': 1009, 'religion': 4417, 'backing': 398, 'dial': 1417, 'digust': 1438, 'dread': 1582, 'president': 4117, 'fierce': 2001, 'egypt': 1664, 'leisurely': 3084, 'plastic': 3998, 'slipper': 4899, 'dopey': 1557, 'gooooood': 2301, 'massage': 3294, 'curiously': 1232, 'excitedly': 1851, 'bleeding': 557, 'intrigue': 2815, 'station': 5120, 'underbelly': 5664, 'central': 800, 'subway': 5220, 'map': 3269, 'frazzle': 2130, 'meltdown': 3345, 'soapbox': 4954, 'moral': 3456, 'turkey': 5618, 'akward': 135, 'genentech': 2226, 'takeover': 5327, 'overwhelm': 3802, 'euan': 1807, 'murder': 3512, 'glow': 2280, 'backdrop': 396, 'phenomenon': 3948, 'chai': 809, 'encouragement': 1723, 'redcoat': 4361, 'resident': 4474, 'wat': 5919, 'sharia': 4768, 'stream': 5168, 'european': 1811, 'union': 5702, 'thesis': 5432, 'trillion': 5581, 'glc': 2271, 'ganging': 2204, 'compromise': 1026, 'unit': 5704, 'birthmom': 535, 'intolerably': 2814, 'polar': 4025, 'mystical': 3530, 'amos': 186, 'retrofitting': 4499, 'cohen': 955, 'arrangement': 292, 'homage': 2532, 'humorous': 2598, 'caller': 727, 'denial': 1348, 'independent': 2706, 'entirety': 1767, 'consumption': 1086, 'marvelous': 3288, 'irresistible': 2847, 'frock': 2158, 'endure': 1730, 'discomfort': 1472, 'benign': 507, 'commercialism': 992, 'cru': 1206, 'australia': 366, 'romcom': 4554, 'sock': 4964, 'string': 5178, 'elder': 1672, 'ditlevsen': 1525, 'gallery': 2198, 'sting': 5143, 'ambition': 175, 'disagreement': 1460, 'poor': 4042, 'addicted': 67, 'nicotine': 3618, 'dry': 1598, 'egg': 1663, 'benedict': 503, 'horrid': 2565, 'thereof': 5431, 'ward': 5900, 'investigator': 2827, 'ponder': 4038, 'manner': 3264, 'grieve': 2344, 'nigeria': 3620, 'assistance': 330, 'safely': 4603, 'encapsulate': 1718, 'ness': 3596, 'energise': 1735, 'socialise': 4960, 'smiley': 4919, 'bah': 413, 'mucus': 3495, 'texture': 5414, 'weave': 5934, 'magic': 3233, 'upper': 5758, 'identify': 2626, 'priority': 4142, 'counselling': 1140, 'revovle': 4512, 'ansi': 231, 'exhaust': 1864, 'aloft': 161, 'reflection': 4374, 'rainy': 4287, 'climate': 918, 'remodel': 4435, 'amenity': 179, 'justanswer': 2948, 'essay': 1796, 'reminder': 4433, 'dm': 1537, 'jeff': 2901, 'technique': 5370, 'heck': 2477, 'brach': 625, 'chipmunk': 868, 'went': 5954, 'flip': 2059, 'flop': 2065, 'mope': 3455, 'admire': 78, 'flatter': 2041, 'bodypump': 589, 'dvd': 1617, 'compulsory': 1027, 'cue': 1221, 'kindness': 2986, 'affirmation': 103, 'sage': 4606, 'eatery': 1639, 'spice': 5046, 'flavor': 2044, 'kairi': 2956, 'prestige': 4122, 'apathetic': 250, 'jesus': 2908, 'electrified': 1675, 'eve': 1817, 'underage': 5663, 'sarcoidosis': 4630, 'disjointed': 1491, 'cook': 1108, 'parcel': 3844, 'timer': 5472, 'bell': 492, 'vegitarianism': 5806, 'cost': 1131, 'fulfilling': 2176, 'balanced': 416, 'arun': 308, 'chemotherapy': 850, 'pinch': 3974, 'niggle': 3621, 'deceive': 1297, 'happpy': 2418, 'athletic': 343, 'enthusiast': 1762, 'insane': 2748, 'smash': 4915, 'rubbish': 4572, 'dead': 1287, 'literary': 3149, 'legitimate': 3082, 'analyze': 194, 'pinpoint': 3979, 'assess': 325, 'exceedingly': 1841, 'pavement': 3885, 'aout': 247, 'entertain': 1757, 'irregardless': 2845, 'alliance': 157, 'funky': 2185, 'frequency': 2137, 'cope': 1116, 'wring': 6060, 'thousand': 5444, 'excruciating': 1856, 'hearing': 2465, 'unique': 5703, 'communication': 1000, 'clique': 924, 'twice': 5624, 'triple': 5586, 'pompous': 4037, 'notoriety': 3655, 'submarine': 5213, 'cartwheel': 771, 'ankle': 216, 'julia': 2942, 'witty': 6025, 'layout': 3057, 'haptic': 2420, 'herrman': 2495, 'franz': 2129, 'liebkind': 3112, 'fuhrer': 2172, 'dancer': 1263, 'nevermind': 3604, 'guest': 2366, 'dharma': 1416, 'amvassago': 191, 'beefy': 475, 'amkris': 185, 'toshibalol': 5516, 'amit': 184, 'beef': 474, 'cake': 720, 'nooo': 3639, 'adopt': 83, 'label': 3013, 'queer': 4252, 'unclear': 5657, 'joel': 2915, 'neurosurgeon': 3601, 'can': 738, 'lawrencewashington': 3052, 'forgot': 2105, 'tiger': 5465, 'loquacious': 3187, 'hunter': 2603, 'dung': 1611, 'maze': 3308, 'solo': 4981, 'disaster': 1465, 'century': 802, 'temporarily': 5385, 'lawyer': 3053, 'dismayed': 1492, 'transfer': 5551, 'operate': 3738, 'disappointment': 1464, 'entrance': 1769, 'admittance': 81, 'hmmm': 2519, 'healthcare': 2461, 'trample': 5546, 'contentedly': 1092, 'humanly': 2591, 'alba': 140, 'fitting': 2030, 'afford': 104, 'primer': 4136, 'limbo': 3130, 'snoop': 4944, 'laptop': 3034, 'likeaudrey': 3124, 'hepburn': 2491, 'tiffany': 5464, 'mediterranean': 3334, 'bone': 599, 'surprise': 5273, 'derby': 1369, 'inconsistent': 2694, 'rustie': 4590, 'dean': 1290, 'hometown': 2539, 'moose': 3454, 'hausa': 2446, 'motorcyclist': 3474, 'resemblance': 4467, 'waitrose': 5883, 'parking': 3850, 'initially': 2735, 'largely': 3036, 'rescue': 4465, 'eater': 1638, 'illustrator': 2646, 'trapping': 5559, 'crosshatch': 1202, 'lensflare': 3090, 'everyone': 1825, 'scroll': 4680, 'obligated': 3679, 'cammie': 734, 'billy': 526, 'fierceness': 2002, 'paste': 3869, 'stone': 5151, 'narrate': 3551, 'erik': 1787, 'prince': 4138, 'autobiography': 371, 'civilian': 891, 'warrior': 5913, 'blackwater': 547, 'unsung': 5737, 'mri': 3490, 'distinctly': 1514, 'multitude': 3505, 'talking': 5336, 'execution': 1859, 'fathom': 1951, 'emotionless': 1704, 'pit': 3986, 'whir': 5972, 'stir': 5146, 'doc': 1538, 'bi': 516, 'organization': 3758, 'mystery': 3529, 'outfit': 3771, 'occur': 3694, 'minor': 3401, 'minimize': 3399, 'keenly': 2969, 'greatly': 2336, 'katniss': 2965, 'tense': 5394, 'carson': 768, 'potato': 4066, 'degree': 1329, 'disorientate': 1496, 'queasy': 4250, 'relatively': 4404, 'barbeque': 436, 'misused': 3422, 'apostrophe': 259, 'bbc': 458, 'incorrect': 2697, 'spelling': 5041, 'itv': 2872, 'censorship': 798, 'cubicle': 1220, 'doom': 1554, 'mourn': 3480, 'lost': 3192, 'qaf': 4242, 'cryin': 1217, 'jacynthe': 2879, 'lookin': 3182, 'rupaul': 4583, 'valentine': 5789, 'kayle': 2967, 'gerle': 2245, 'dumpee': 1609, 'slighted': 4895, 'stem': 5130, 'rejection': 4396, 'replacement': 4451, 'mariah': 3275, 'carey': 764, 'classic': 897, 'sprinkling': 5078, 'stat': 5117, 'beneficial': 504, 'employee': 1708, 'rapidly': 4302, 'ramadan': 4290, 'ordinance': 3754, 'reasonably': 4334, 'genealogical': 2225, 'strain': 5158, 'verbally': 5813, 'necessarily': 3573, 'whistle': 5975, 'grossly': 2351, 'campus': 737, 'adoption': 84, 'harmony': 2431, 'postpone': 4064, 'inaction': 2682, 'unfinished': 5685, 'freud': 2143, 'irma': 2840, 'injection': 2737, 'completion': 1021, 'dharavi': 1415, 'mumbai': 3507, 'annual': 226, 'turnover': 5621, 'carb': 754, 'sandwich': 4622, 'legality': 3079, 'tatter': 5352, 'everybody': 1823, 'unworthiness': 5748, 'coming': 989, 'symbol': 5307, 'ignorant': 2637, 'jeremy': 2904, 'luka': 3217, 'springer': 5077, 'satisfaction': 4634, 'dish': 1488, 'dorm': 1561, 'float': 2063, 'pothole': 4069, 'hasan': 2435, 'retiring': 4498, 'modest': 3433, 'schadenfreude': 4658, 'worship': 6048, 'suicidal': 5239, 'opinionated': 3741, 'admiration': 77, 'summery': 5246, 'element': 1677, 'bummin': 689, 'canon': 743, 'iii': 2640, 'dontknow': 1552, 'linus': 3138, 'lash': 3037, 'empowerment': 1712, 'parenting': 3846, 'mat': 3299, 'circuit': 886, 'spine': 5051, 'atrophy': 349, 'crab': 1161, 'reserve': 4471, 'tale': 5330, 'versus': 5819, 'bizarre': 543, 'reiterate': 4394, 'despondent': 1388, 'mermaidhaire': 3358, 'chore': 873, 'exploration': 1884, 'dull': 1605, 'detail': 1396, 'ii': 2639, 'melancholy': 3340, 'organise': 3757, 'etape': 1800, 'prep': 4108, 'ride': 4520, 'caledonia': 722, 'affair': 98, 'trustworthy': 5600, 'honkerblonke': 2546, 'scabi': 4643, 'verona': 5816, 'goddess': 2290, 'sympathize': 5309, 'hertha': 2496, 'downright': 1570, 'systematically': 5315, 'assassinate': 321, 'yup': 6109, 'cooperation': 1113, 'common': 997, 'mehow': 3339, 'april': 278, 'infield': 2722, 'insider': 2755, 'chakotay': 813, 'silently': 4841, 'chemo': 849, 'radiation': 4278, 'oncologist': 3726, 'initally': 2733, 'internist': 2804, 'nasal': 3554, 'sarcoma': 4631, 'everytime': 1827, 'balloon': 420, 'strawberry': 5166, 'alignment': 152, 'nightlife': 3624, 'speed': 5039, 'sweater': 5291, 'nausea': 3563, 'tiredness': 5483, 'dumb': 1606, 'grandeur': 2320, 'destinys': 1393, 'transform': 5552, 'pant': 3832, 'victorious': 5830, 'mcas': 3310, 'fulfill': 2174, 'idealize': 2625, 'clarity': 895, 'reign': 4391, 'ambulance': 177, 'diazepam': 1421, 'alise': 153, 'disservice': 1509, 'artifically': 302, 'fling': 2058, 'explode': 1883, 'pressurize': 4121, 'cabin': 715, 'bondmusing': 598, 'figt': 2004, 'yo': 6101, 'buzzy': 713, 'mildly': 3384, 'humiliate': 2594, 'hotshot': 2574, 'screw': 4678, 'stillness': 5141, 'crim': 1190, 'hefty': 2481, 'weighting': 5948, 'bucket': 678, 'razor': 4314, 'blade': 548, 'effortlessly': 1659, 'snuggle': 4952, 'candy': 741, 'eid': 1668, 'snotface': 4947, 'gwiyomi': 2379, 'sofa': 4969, 'crake': 1163, 'unjust': 5709, 'hannah': 2412, 'montana': 3448, 'scarf': 4650, 'sue': 5231, 'bloater': 567, 'grin': 2346, 'partially': 3853, 'ivy': 2875, 'remedy': 4429, 'conflict': 1049, 'tch': 5358, 'incase': 2685, 'ehb': 1666, 'ow': 3805, 'precise': 4095, 'misplace': 3411, 'criminal': 1192, 'justice': 2949, 'name': 3545, 'abusive': 22, 'wade': 5879, 'dialog': 1418, 'nakedness': 3542, 'maid': 3235, 'hesitate': 2499, 'improvement': 2680, 'ticket': 5461, 'marten': 3285, 'sol': 4973, 'barbie': 437, 'shatter': 4772, 'spanish': 5025, 'volume': 5871, 'wishful': 6021, 'commitment': 995, 'cage': 718, 'kit': 2990, 'dezinesamaze': 1414, 'fiddle': 1998, 'quaker': 4244, 'announce': 221, 'fortnight': 2113, 'predictably': 4101, 'cupcake': 1227, 'forefront': 2100, 'utter': 5782, 'thankfulness': 5420, 'gesture': 2247, 'inhibited': 2732, 'shush': 4821, 'calf': 723, 'existent': 1872, 'debris': 1294, 'porcupine': 4046, 'irresponcible': 2848, 'literally': 3148, 'forsake': 2111, 'winner': 6011, 'harrass': 2432, 'oppress': 3746, 'pete': 3938, 'edochie': 1653, 'hoax': 2520, 'olajideolafunmbi': 3719, 'necklace': 3577, 'combing': 979, 'cycling': 1249, 'mushy': 3517, 'feverishly': 1993, 'crunk': 1212, 'distress': 1521, 'empathy': 1705, 'glasgow': 2269, 'handful': 2404, 'organized': 3760, 'isolated': 2860, 'paralysis': 3839, 'hypocrite': 2615, 'palin': 3826, 'reluctance': 4422, 'federal': 1966, 'employ': 1707, 'hundred': 2601, 'eucharist': 1808, 'banker': 431, 'conservative': 1065, 'liberal': 3105, 'gay': 2218, 'arrogant': 298, 'village': 5840, 'alert': 146, 'manila': 3259, 'initial': 2734, 'splash': 5058, 'stroke': 5181, 'tattoo': 5353, 'peggy': 3900, 'mara': 3270, 'disdainful': 1481, 'stinky': 5145, 'horizontal': 2561, 'flexy': 2052, 'benevolent': 506, 'goliath': 2294, 'undo': 5674, 'possess': 4058, 'cumberland': 1225, 'meditate': 3332, 'altogether': 169, 'demotivate': 1347, 'regimented': 4384, 'provocative': 4205, 'belle': 493, 'sebastian': 4687, 'andthenwear': 202, 'frankly': 2126, 'commuter': 1003, 'african': 108, 'reliable': 4413, 'epileptic': 1782, 'usher': 5774, 'toll': 5500, 'lego': 3083, 'tissue': 5485, 'gender': 2223, 'alongside': 162, 'diane': 1419, 'von': 5874, 'furstenberg': 2189, 'rodarte': 4547, 'wu': 6070, 'grant': 2325, 'mouse': 3481, 'perpetually': 3922, 'wounded': 6055, 'preclude': 4098, 'jim': 2913, 'inanimate': 2683, 'jame': 2883, 'outweigh': 3782, 'quivering': 4268, 'lapse': 3033, 'photography': 3955, 'growth': 2358, 'accelerate': 25, 'flicker': 2054, 'racing': 4276, 'herald': 2492, 'constraint': 1080, 'antagonism': 233, 'misunderstanding': 3420, 'wholeheartedly': 5978, 'armistice': 289, 'remembrance': 4431, 'energetically': 1734, 'leadingstring': 3065, 'flaw': 2046, 'economy': 1646, 'gm': 2284, 'heinously': 2485, 'fashioned': 1944, 'illustration': 2645, 'reply': 4453, 'invent': 2823, 'hail': 2390, 'ember': 1692, 'flake': 2034, 'execute': 1858, 'whelming': 5963, 'weekly': 5944, 'grammar': 2318, 'disclosure': 1470, 'collaboration': 960, 'seldom': 4706, 'apparently': 263, 'declare': 1303, 'sickening': 4828, 'songy': 4995, 'thou': 5442, 'christians': 876, 'blaming': 552, 'slut': 4910, 'iolani': 2834, 'attribute': 359, 'romantic': 4553, 'cornish': 1122, 'cornwall': 1123, 'taiwan': 5324, 'peak': 3894, 'housebound': 2577, 'peckish': 3896, 'asking': 317, 'boost': 604, 'taking': 5329, 'charity': 829, 'donate': 1550, 'easel': 1632, 'elation': 1671, 'zombie': 6121, 'heel': 2480, 'suppress': 5265, 'tiring': 5484, 'taylor': 5356, 'swift': 5299, 'bask': 448, 'overtone': 3799, 'ink': 2740, 'redden': 4362, 'manhood': 3256, 'oversized': 3797, 'tee': 5373, 'baggy': 412, 'semi': 4716, 'streak': 5167, 'impressive': 2676, 'wet': 5958, 'yknow': 6100, 'twitchy': 5629, 'envous': 1780, 'hatter': 2444, 'alice': 149, 'indulgence': 2714, 'audacity': 361, 'lounge': 3201, 'entertainer': 1759, 'williams': 5998, 'insomnia': 2760, 'clairee': 893, 'mistress': 3419, 'persona': 3927, 'insecured': 2751, 'insincere': 2758, 'nosy': 3649, 'claw': 902, 'privately': 4148, 'belittle': 491, 'impressed': 2673, 'dunham': 1612, 'portray': 4052, 'minimise': 3398, 'realization': 4330, 'outburst': 3767, 'offspring': 3712, 'pumped': 4221, 'brood': 660, 'gnaw': 2285, 'trimming': 5583, 'paulie': 3883, 'whore': 5985, 'sniiiiifff': 4938, 'honey': 2545, 'loved': 3203, 'manitz': 3263, 'dot': 1563, 'accent': 26, 'artificially': 303, 'moisturiser': 3436, 'last': 3038, 'gentle': 2239, 'cleanse': 907, 'moisturise': 3435, 'guarantee': 2363, 'paragraph': 3837, 'rouge': 4564, 'tub': 5608, 'musician': 3521, 'gene': 2224, 'dominant': 1547, 'poet': 4020, 'likeable': 3123, 'flighty': 2056, 'keith': 2971, 'detour': 1402, 'tourist': 5525, 'xela': 6077, 'neon': 3590, 'shizz': 4791, 'whack': 5960, 'knitter': 2999, 'slapping': 4886, 'unpressed': 5722, 'outlet': 3775, 'agony': 123, 'superman': 5256, 'equal': 1784, 'seriousness': 4741, 'elderly': 1673, 'oven': 3784, 'newly': 3608, 'tendency': 5389, 'paris': 3848, 'janne': 2888, 'suominen': 5252, 'visable': 5856, 'spotlight': 5071, 'unfashionable': 5684, 'virginia': 5853, 'boast': 583, 'caregiver': 762, 'rejoice': 4397, 'consistent': 1071, 'chronically': 880, 'sharpe': 4771, 'chasing': 834, 'passion': 3864, 'channel': 822, 'treader': 5565, 'hardcover': 2424, 'colored': 971, 'pencil': 3903, 'knowingly': 3004, 'murt': 3515, 'narrow': 3553, 'emptiness': 1714, 'baggage': 411, 'disco': 1471, 'affend': 102, 'catholic': 784, 'anyways': 246, 'privacy': 4145, 'shallow': 4763, 'atention': 340, 'misstreate': 3416, 'affeccion': 99, 'genuine': 2241, 'loneliness': 3175, 'newtown': 3612, 'original': 3761, 'fragrance': 2122, 'freshen': 2141, 'underwear': 5671, 'drawer': 1581, 'gorgeously': 2304, 'girly': 2260, 'dash': 1274, 'dickinson': 1423, 'colon': 969, 'enhance': 1743, 'enjambment': 1744, 'sonnet': 4996, 'multitaske': 3504, 'rag': 4282, 'destination': 1390, 'instant': 2768, 'refocus': 4375, 'preparation': 4109, 'incomplete': 2692, 'overrrrrrrrrrrr': 3795, 'sadly': 4600, 'ther': 5429, 'metropolitan': 3370, 'pavilion': 3886, 'sharknado': 4769, 'boisterous': 592, 'untried': 5741, 'generator': 2232, 'spur': 5079, 'titanium': 5486, 'hedgehog': 2478, 'sor': 5003, 'unhappiness': 5693, 'abbigail': 5, 'apraxia': 277, 'spoken': 5065, 'florence': 2067, 'extraordinarily': 1897, 'liberate': 3106, 'holly': 2530, 'warp': 5911, 'moanday': 3427, 'unwanted': 5744, 'vex': 5821, 'nationality': 3558, 'trophy': 5592, 'afrade': 106, 'blissfully': 566, 'unaware': 5651, 'intrusive': 2819, 'gook': 2300, 'overconfident': 3788, 'creation': 1179, 'biochemistry': 531, 'zambia': 6112, 'hookah': 2553, 'openly': 3737, 'recommendation': 4353, 'modern': 3432, 'web': 5935, 'squeak': 5084, 'baachan': 393, 'trolley': 5590, 'tantrum': 5342, 'slink': 4897, 'veil': 5807, 'relentless': 4410, 'housewife': 2578, 'desirable': 1378, 'ironically': 2842, 'loudon': 3199, 'kate': 2963, 'mcgarrigle': 3311, 'rufu': 4577, 'wainwright': 5880, 'doha': 1544, 'moxie': 3487, 'cath': 782, 'script': 4679, 'resistant': 4476, 'revise': 4511, 'appropriate': 276, 'owen': 3807, 'morgan': 3458, 'undertaking': 5669, 'mircowave': 3403, 'pumpin': 4222, 'intimated': 2810, 'sodden': 4967, 'squeeze': 5086, 'sardonic': 4632, 'squat': 5083, 'ironic': 2841, 'broadly': 657, 'breeze': 643, 'entrust': 1770, 'disability': 1456, 'somethign': 4989, 'zumba': 6125, 'pgce': 3946, 'recording': 4355, 'humbug': 2593, 'likewise': 3127, 'validity': 5792, 'aimlessly': 132, 'pileon': 3972, 'knock': 3001, 'backlog': 399, 'lump': 3220, 'supporter': 5261, 'ebook': 1643, 'unfulfilled': 5690, 'abdoman': 7, 'pelvis': 3901, 'compensate': 1012, 'dragon': 1576, 'beg': 477, 'translate': 5554, 'sorrow': 5005, 'mercy': 3354, 'flirt': 2060, 'em': 1685, 'distraction': 1519, 'wheeeeee': 5962, 'unafraid': 5647, 'cruise': 1208, 'instagram': 2766, 'dignified': 1435, 'stance': 5104, 'bathing': 451, 'justin': 2953, 'aryiku': 309, 'sabotage': 4593, 'uglier': 5636, 'deformed': 1327, 'bigotry': 523, 'bind': 527, 'bearable': 464, 'optimist': 3748, 'biochem': 530, 'navigating': 3567, 'trail': 5539, 'recover': 4356, 'kook': 3007, 'annie': 219, 'churn': 883, 'esp': 1794, 'putter': 4239, 'hardcore': 2423, 'flail': 2033, 'wally': 5893, 'lamb': 3023, 'chick': 855, 'monastery': 3443, 'tomfoolery': 5502, 'shenanigan': 4779, 'wrinkle': 6061, 'prevention': 4127, 'prey': 4130, 'lyric': 3228, 'giveaway': 2262, 'resist': 4475, 'finality': 2011, 'florida': 2068, 'barrage': 440, 'scoff': 4667, 'careeeeee': 758, 'unnoticeable': 5720, 'burrow': 701, 'unavoidably': 5650, 'shortcoming': 4806, 'runner': 4581, 'top': 5512, 'comparison': 1008, 'slice': 4892, 'counter': 1143, 'redhead': 4364, 'lavender': 3050, 'substitute': 5216, 'oil': 3714, 'essential': 1798, 'factory': 1911, 'butchery': 707, 'exempt': 1861, 'throbbing': 5451, 'cock': 949, 'teenage': 5375, 'wallet': 5891, 'playoff': 4005, 'ruslan': 4587, 'fedotenko': 1968, 'gratefulness': 2329, 'uber': 5634, 'terry': 5410, 'yippee': 6099, 'deen': 1309, 'bandhu': 427, 'uplifter': 5755, 'slate': 4887, 'unilaterally': 5698, 'carelessness': 763, 'abuse': 21, 'vain': 5788, 'jerk': 2905, 'poke': 4024, 'anonymous': 229, 'murakami': 3511, 'bunnysuit': 694, 'dining': 1443, 'rachel': 4274, 'advise': 95, 'smelly': 4917, 'jalopy': 2881, 'manual': 3266, 'unsupervised': 5738, 'sucessfully': 5225, 'handbrake': 2402, 'illogically': 2643, 'unsettling': 5732, 'upsetting': 5761, 'headphone': 2457, 'momma': 3441, 'willed': 5997, 'tx': 5631, 'sassiness': 4633, 'whingee': 5968, 'offender': 3703, 'pia': 3960, 'cdn': 793, 'plea': 4006, 'prize': 4151, 'italy': 2866, 'generic': 2233, 'gulam': 2372, 'ali': 148, 'classical': 898, 'singer': 4858, 'gluten': 2282, 'mediocre': 3331, 'fascinate': 1940, 'ebb': 1642, 'blink': 565, 'mythical': 3532, 'anybody': 243, 'activism': 59, 'construe': 1082, 'liveagainsttheflow': 3152, 'rampant': 4292, 'sacrifice': 4596, 'whine': 5967, 'hyundai': 2617, 'tucson': 5611, 'gag': 2195, 'spacy': 5023, 'effective': 1657, 'emm': 1698, 'fri': 2144, 'shannon': 4765, 'berate': 509, 'greatness': 2337, 'sai': 4607, 'cognize': 954, 'disregard': 1502, 'cosmo': 1130, 'years': 6091, 'due': 1603, 'stagnate': 5100, 'tremor': 5572, 'rice': 4517, 'axel': 391, 'panic': 3830, 'emptied': 1713, 'stab': 5093, 'phoenix': 3951, 'spew': 5045, 'desperation': 1385, 'engagement': 1739, 'newbie': 3606, 'endzone': 1731, 'marginalise': 3273, 'define': 1322, 'bicycle': 521, 'transport': 5557, 'exceptional': 1845, 'flying': 2076, 'brainless': 628, 'snippy': 4941, 'jackson': 2878, 'cnn': 943, 'shoudlnt': 4811, 'punish': 4226, 'snowboard': 4949, 'calgary': 724, 'pb': 3888, 'prupose': 4206, 'ehh': 1667, 'sweetener': 5295, 'refined': 4372, 'portrayal': 4053, 'gratuitously': 2331, 'revere': 4509, 'pioneer': 3980, 'kidnap': 2980, 'creme': 1189, 'musically': 3520, 'abandonment': 4, 'cliche': 915, 'brandy': 631, 'denounce': 1353, 'grotesque': 2352, 'unrealistic': 5724, 'funk': 2184, 'chaperone': 823, 'winterpaysforsummer': 6014, 'annoyance': 223, 'eyebrow': 1902, 'regulate': 4390, 'sustain': 5285, 'nameless': 3546, 'marginally': 3274, 'awash': 382, 'overeducated': 3790, 'underpaid': 5666, 'indenture': 2704, 'peer': 3899, 'dupe': 1614, 'pickle': 3964, 'hump': 2599, 'hip': 2516, 'cambodia': 733, 'lax': 3054, 'vertigo': 5820, 'trepidatious': 5575, 'sweetness': 5297, 'recess': 4344, 'frequent': 2138, 'manipulkate': 3261, 'lucy': 3215, 'charlie': 830, 'pensive': 3906, 'youtube': 6108, 'trend': 5573, 'distinct': 1513, 'pause': 3884, 'kakashi': 2957, 'entirelly': 1765, 'tod': 5492, 'diwali': 1532, 'jeannie': 2900, 'comforting': 986, 'louche': 3195, 'dorky': 1560, 'rotund': 4563, 'buff': 681, 'looking': 3183, 'bloke': 573, 'muaz': 3494, 'scientist': 4665, 'observe': 3684, 'moon': 3453, 'zero': 6117, 'gravity': 2332, 'relegate': 4409, 'crumble': 1209, 'gatorade': 2215, 'accommodation': 34, 'backpack': 400, 'tangent': 5339, 'converse': 1104, 'shoulde': 4812, 'beautifully': 468, 'curate': 1228, 'sanctity': 4619, 'webkit': 5936, 'adjust': 72, 'auto': 370, 'inline': 2741, 'togehter': 5497, 'chair': 811, 'dust': 1615, 'reread': 4464, 'radical': 4280, 'awkwardly': 389, 'melbourne': 3341, 'linger': 3136, 'decently': 1298, 'enact': 1717, 'arrogance': 297, 'clarify': 894, 'zipline': 6120, 'grove': 2356, 'neighbor': 3585, 'supervise': 5259, 'zhu': 6119, 'snapback': 4932, 'lotus': 3194, 'wholesale': 5979, 'obey': 3676, 'pouting': 4072, 'lean': 3066, 'george': 2243, 'forefinger': 2099, 'thumb': 5456, 'selective': 4709, 'privacys': 4146, 'stagger': 5099, 'upstairs': 5763, 'twisted': 5627, 'allocate': 158, 'lurk': 3225, 'sour': 5015, 'actress': 62, 'athleticism': 344, 'severely': 4750, 'glory': 2278, 'undoubtedly': 5675, 'pundit': 4225, 'sxe': 5306, 'abc': 6, 'insensitive': 2753, 'dramatic': 1579, 'whiny': 5970, 'alcest': 144, 'snippet': 4940, 'kyuhyun': 3010, 'apgujeong': 255, 'hyunjin': 2618, 'mrs': 3491, 'unspoilt': 5736, 'ladder': 3018, 'womanhood': 6029, 'hobby': 2521, 'hostel': 2570, 'loyal': 3210, 'cajole': 719, 'flatmate': 2039, 'woop': 6036, 'correction': 1126, 'throng': 5453, 'fervor': 1988, 'unprepared': 5721, 'kierkegaard': 2981, 'philosopher': 3949, 'oomph': 3732, 'candyland': 742, 'haggard': 2388, 'dreadful': 1583, 'turnout': 5620, 'relevant': 4412, 'derp': 1371, 'lrt': 3211, 'uw': 5784, 'displaced': 1497, 'wisdom': 6017, 'bewildered': 514, 'mug': 3499, 'arrival': 295, 'sentimental': 4727, 'muster': 3523, 'christmassy': 879, 'acquainted': 52, 'gettin': 2249, 'inventory': 2824, 'sauce': 4637, 'perishable': 3918, 'isolation': 2861, 'absorb': 18, 'revelation': 4507, 'ancient': 197, 'tome': 5501, 'strew': 5176, 'bs': 673, 'accepted': 30, 'wondrous': 6032, 'meanness': 3317, 'tab': 5316, 'introduction': 2817, 'hun': 2600, 'hype': 2610, 'justly': 2954, 'pronounce': 4185, 'accordance': 40, 'faithfulness': 1920, 'vey': 5822, 'oncology': 3727, 'dpt': 1573, 'paranoiud': 3842, 'overtook': 3800, 'negatively': 3582, 'addictive': 68, 'laziness': 3059, 'narcissism': 3550, 'justifying': 2952, 'strengthen': 5171, 'hi': 2503, 'splendor': 5060, 'sally': 4613, 'hansen': 2413, 'cha': 807, 'ching': 865, 'silver': 4843, 'glitter': 2275, 'vomity': 5873, 'reported': 4455, 'dissassociate': 1505, 'vinegary': 5845, 'calli': 728, 'trader': 5533, 'disorient': 1495, 'vagina': 5786, 'sugary': 5237, 'gabapentin': 2193, 'zonisamide': 6123, 'holistic': 2526, 'stumped': 5197, 'continental': 1094, 'purely': 4232, 'heaven': 2473, 'asbestos': 310, 'banter': 432, 'seth': 4747, 'loudly': 3198, 'excelent': 1842, 'mighty': 3380, 'roar': 4542, 'pious': 3981, 'uppity': 5759, 'tuesday': 5612, 'mummy': 3508, 'fps': 2120, 'andy': 203, 'chemical': 847, 'gutte': 2377, 'hall': 2395, 'residence': 4473, 'uni': 5696, 'rmb': 4540, 'sensibility': 4723, 'locker': 3166, 'gastric': 2211, 'info': 2725, 'offense': 3704, 'frightening': 2155, 'frightful': 2156, 'vulnerability': 5877, 'tenge': 5392, 'permanent': 3920, 'marathon': 3271, 'admittedly': 82, 'huckleberry': 2584, 'finn': 2022, 'censor': 797, 'flirtie': 2061, 'batter': 453, 'temptation': 5387, 'rider': 4521, 'division': 1530, 'greet': 2340, 'pester': 3935, 'brokeup': 659, 'dint': 1447, 'freshman': 2142, 'evaporate': 1816, 'cyberspace': 1247, 'grit': 2348, 'touchy': 5522, 'feely': 1980, 'motherhood': 3467, 'respectful': 4485, 'euro': 1810, 'expressive': 1891, 'angst': 210, 'yelp': 6094, 'anatomy': 196, 'procure': 4160, 'federer': 1967, 'spinach': 5050, 'feta': 1990, 'cranberry': 1165, 'salad': 4611, 'balsamic': 421, 'viniagrette': 5846, 'artwork': 307, 'tease': 5366, 'lethargic': 3099, 'be': 459, 'dieting': 1428, 'nanashi': 3547, 'uncare': 5652, 'panel': 3829, 'daycare': 1282, 'beast': 465, 'rd': 4315, 'theirs': 5424, 'peregrino': 3910, 'bonding': 597, 'wardrode': 5902}\n"
     ]
    }
   ],
   "source": [
    "v = TfidfVectorizer()\n",
    "\n",
    "X_train_cv = v.fit_transform(X_train)\n",
    "X_test_cv = v.transform(X_test)\n",
    "\n",
    "# All TfidfVectorizer vocabularies\n",
    "print(v.vocabulary_)"
   ]
  },
  {
   "cell_type": "markdown",
   "id": "03c7bc34",
   "metadata": {},
   "source": [
    "# applying random forest"
   ]
  },
  {
   "cell_type": "code",
   "execution_count": 21,
   "id": "d5b67a58",
   "metadata": {},
   "outputs": [
    {
     "data": {
      "text/html": [
       "<style>#sk-container-id-1 {color: black;}#sk-container-id-1 pre{padding: 0;}#sk-container-id-1 div.sk-toggleable {background-color: white;}#sk-container-id-1 label.sk-toggleable__label {cursor: pointer;display: block;width: 100%;margin-bottom: 0;padding: 0.3em;box-sizing: border-box;text-align: center;}#sk-container-id-1 label.sk-toggleable__label-arrow:before {content: \"▸\";float: left;margin-right: 0.25em;color: #696969;}#sk-container-id-1 label.sk-toggleable__label-arrow:hover:before {color: black;}#sk-container-id-1 div.sk-estimator:hover label.sk-toggleable__label-arrow:before {color: black;}#sk-container-id-1 div.sk-toggleable__content {max-height: 0;max-width: 0;overflow: hidden;text-align: left;background-color: #f0f8ff;}#sk-container-id-1 div.sk-toggleable__content pre {margin: 0.2em;color: black;border-radius: 0.25em;background-color: #f0f8ff;}#sk-container-id-1 input.sk-toggleable__control:checked~div.sk-toggleable__content {max-height: 200px;max-width: 100%;overflow: auto;}#sk-container-id-1 input.sk-toggleable__control:checked~label.sk-toggleable__label-arrow:before {content: \"▾\";}#sk-container-id-1 div.sk-estimator input.sk-toggleable__control:checked~label.sk-toggleable__label {background-color: #d4ebff;}#sk-container-id-1 div.sk-label input.sk-toggleable__control:checked~label.sk-toggleable__label {background-color: #d4ebff;}#sk-container-id-1 input.sk-hidden--visually {border: 0;clip: rect(1px 1px 1px 1px);clip: rect(1px, 1px, 1px, 1px);height: 1px;margin: -1px;overflow: hidden;padding: 0;position: absolute;width: 1px;}#sk-container-id-1 div.sk-estimator {font-family: monospace;background-color: #f0f8ff;border: 1px dotted black;border-radius: 0.25em;box-sizing: border-box;margin-bottom: 0.5em;}#sk-container-id-1 div.sk-estimator:hover {background-color: #d4ebff;}#sk-container-id-1 div.sk-parallel-item::after {content: \"\";width: 100%;border-bottom: 1px solid gray;flex-grow: 1;}#sk-container-id-1 div.sk-label:hover label.sk-toggleable__label {background-color: #d4ebff;}#sk-container-id-1 div.sk-serial::before {content: \"\";position: absolute;border-left: 1px solid gray;box-sizing: border-box;top: 0;bottom: 0;left: 50%;z-index: 0;}#sk-container-id-1 div.sk-serial {display: flex;flex-direction: column;align-items: center;background-color: white;padding-right: 0.2em;padding-left: 0.2em;position: relative;}#sk-container-id-1 div.sk-item {position: relative;z-index: 1;}#sk-container-id-1 div.sk-parallel {display: flex;align-items: stretch;justify-content: center;background-color: white;position: relative;}#sk-container-id-1 div.sk-item::before, #sk-container-id-1 div.sk-parallel-item::before {content: \"\";position: absolute;border-left: 1px solid gray;box-sizing: border-box;top: 0;bottom: 0;left: 50%;z-index: -1;}#sk-container-id-1 div.sk-parallel-item {display: flex;flex-direction: column;z-index: 1;position: relative;background-color: white;}#sk-container-id-1 div.sk-parallel-item:first-child::after {align-self: flex-end;width: 50%;}#sk-container-id-1 div.sk-parallel-item:last-child::after {align-self: flex-start;width: 50%;}#sk-container-id-1 div.sk-parallel-item:only-child::after {width: 0;}#sk-container-id-1 div.sk-dashed-wrapped {border: 1px dashed gray;margin: 0 0.4em 0.5em 0.4em;box-sizing: border-box;padding-bottom: 0.4em;background-color: white;}#sk-container-id-1 div.sk-label label {font-family: monospace;font-weight: bold;display: inline-block;line-height: 1.2em;}#sk-container-id-1 div.sk-label-container {text-align: center;}#sk-container-id-1 div.sk-container {/* jupyter's `normalize.less` sets `[hidden] { display: none; }` but bootstrap.min.css set `[hidden] { display: none !important; }` so we also need the `!important` here to be able to override the default hidden behavior on the sphinx rendered scikit-learn.org. See: https://github.com/scikit-learn/scikit-learn/issues/21755 */display: inline-block !important;position: relative;}#sk-container-id-1 div.sk-text-repr-fallback {display: none;}</style><div id=\"sk-container-id-1\" class=\"sk-top-container\"><div class=\"sk-text-repr-fallback\"><pre>RandomForestClassifier()</pre><b>In a Jupyter environment, please rerun this cell to show the HTML representation or trust the notebook. <br />On GitHub, the HTML representation is unable to render, please try loading this page with nbviewer.org.</b></div><div class=\"sk-container\" hidden><div class=\"sk-item\"><div class=\"sk-estimator sk-toggleable\"><input class=\"sk-toggleable__control sk-hidden--visually\" id=\"sk-estimator-id-1\" type=\"checkbox\" checked><label for=\"sk-estimator-id-1\" class=\"sk-toggleable__label sk-toggleable__label-arrow\">RandomForestClassifier</label><div class=\"sk-toggleable__content\"><pre>RandomForestClassifier()</pre></div></div></div></div></div>"
      ],
      "text/plain": [
       "RandomForestClassifier()"
      ]
     },
     "execution_count": 21,
     "metadata": {},
     "output_type": "execute_result"
    }
   ],
   "source": [
    "RFC_model = RandomForestClassifier()\n",
    "\n",
    "RFC_model.fit(X_train_cv, y_train)"
   ]
  },
  {
   "cell_type": "code",
   "execution_count": 22,
   "id": "3f31799a",
   "metadata": {},
   "outputs": [],
   "source": [
    "# Get the predictions for X_test and store it in y_pred\n",
    "y_pred = RFC_model.predict(X_test_cv)"
   ]
  },
  {
   "cell_type": "code",
   "execution_count": 23,
   "id": "00cce2f9",
   "metadata": {},
   "outputs": [
    {
     "name": "stdout",
     "output_type": "stream",
     "text": [
      "0.9276094276094277\n"
     ]
    }
   ],
   "source": [
    "# Print Accuracy\n",
    "print(accuracy_score(y_test, y_pred))"
   ]
  },
  {
   "cell_type": "code",
   "execution_count": 24,
   "id": "6add7e96",
   "metadata": {},
   "outputs": [
    {
     "name": "stdout",
     "output_type": "stream",
     "text": [
      "              precision    recall  f1-score   support\n",
      "\n",
      "           0       0.92      0.95      0.94       400\n",
      "           1       0.93      0.93      0.93       388\n",
      "           2       0.94      0.90      0.92       400\n",
      "\n",
      "    accuracy                           0.93      1188\n",
      "   macro avg       0.93      0.93      0.93      1188\n",
      "weighted avg       0.93      0.93      0.93      1188\n",
      "\n"
     ]
    }
   ],
   "source": [
    "# Print the classfication report\n",
    "print(classification_report(y_test, y_pred))"
   ]
  },
  {
   "cell_type": "markdown",
   "id": "e022b4a3",
   "metadata": {},
   "source": [
    "# test"
   ]
  },
  {
   "cell_type": "code",
   "execution_count": 25,
   "id": "0e6c8403",
   "metadata": {},
   "outputs": [
    {
     "data": {
      "text/plain": [
       "'im looking good and feeling good other than this crappy cold im dealing with'"
      ]
     },
     "execution_count": 25,
     "metadata": {},
     "output_type": "execute_result"
    }
   ],
   "source": [
    "test_text = df['Comment'][2000]\n",
    "test_text"
   ]
  },
  {
   "cell_type": "code",
   "execution_count": 26,
   "id": "74c6c078",
   "metadata": {},
   "outputs": [
    {
     "data": {
      "text/plain": [
       "['m look good feel good crappy cold m deal']"
      ]
     },
     "execution_count": 26,
     "metadata": {},
     "output_type": "execute_result"
    }
   ],
   "source": [
    "#preprocess\n",
    "test_text_processed = [preprocess(test_text)]\n",
    "test_text_processed"
   ]
  },
  {
   "cell_type": "code",
   "execution_count": 27,
   "id": "c7a618c0",
   "metadata": {},
   "outputs": [],
   "source": [
    "#covert to vector\n",
    "test_text_vc = v.transform(test_text_processed)"
   ]
  },
  {
   "cell_type": "code",
   "execution_count": 28,
   "id": "453a76f2",
   "metadata": {},
   "outputs": [],
   "source": [
    "#get prediction\n",
    "test_text = RFC_model.predict(test_text_vc)"
   ]
  },
  {
   "cell_type": "code",
   "execution_count": 29,
   "id": "416fa025",
   "metadata": {},
   "outputs": [
    {
     "name": "stdout",
     "output_type": "stream",
     "text": [
      "joy -> 0\n",
      "[0]\n"
     ]
    }
   ],
   "source": [
    "print(f\"{df['Emotion'][2000]} -> {df['Emotion_num'][2000]}\")\n",
    "print(test_text)"
   ]
  },
  {
   "cell_type": "code",
   "execution_count": null,
   "id": "992a882a",
   "metadata": {},
   "outputs": [],
   "source": []
  }
 ],
 "metadata": {
  "kernelspec": {
   "display_name": "Python 3 (ipykernel)",
   "language": "python",
   "name": "python3"
  },
  "language_info": {
   "codemirror_mode": {
    "name": "ipython",
    "version": 3
   },
   "file_extension": ".py",
   "mimetype": "text/x-python",
   "name": "python",
   "nbconvert_exporter": "python",
   "pygments_lexer": "ipython3",
   "version": "3.11.4"
  }
 },
 "nbformat": 4,
 "nbformat_minor": 5
}
